{
 "cells": [
  {
   "cell_type": "code",
   "execution_count": 1,
   "id": "generic-scout",
   "metadata": {},
   "outputs": [],
   "source": [
    "from joblib import dump\n",
    "import joblib\n",
    "import pandas as pd\n",
    "import numpy as np\n",
    "from math import log\n",
    "import matplotlib.pyplot as plt\n",
    "import os,sys\n",
    "from PIL import Image\n",
    "from sklearn.tree import DecisionTreeClassifier, plot_tree, export_graphviz\n",
    "from sklearn.ensemble import RandomForestClassifier\n",
    "from sklearn.model_selection import train_test_split\n",
    "from sklearn.metrics import accuracy_score\n",
    "from sklearn.svm import OneClassSVM\n",
    "from sklearn.preprocessing import OneHotEncoder\n",
    "from sklearn import svm\n",
    "from sklearn.neighbors import KNeighborsClassifier\n",
    "from sklearn.neural_network import MLPClassifier\n",
    "from sklearn.linear_model import LogisticRegression\n",
    "from sklearn.metrics import confusion_matrix, precision_score, f1_score, recall_score, accuracy_score\n",
    "from scipy.stats import sem\n",
    "\n",
    "import warnings\n",
    "warnings.filterwarnings('ignore')"
   ]
  },
  {
   "cell_type": "code",
   "execution_count": 2,
   "id": "sought-techno",
   "metadata": {},
   "outputs": [],
   "source": [
    "df = pd.read_csv('~/nflplaybyplay2009to2016/NFL Play by Play 2009-2018 (v5).csv')\n",
    "# df = pd.read_excel('~/data/play_by_play_2009_2018_clean.xlsx')"
   ]
  },
  {
   "cell_type": "code",
   "execution_count": 3,
   "id": "powered-kitty",
   "metadata": {},
   "outputs": [
    {
     "data": {
      "text/html": [
       "<div>\n",
       "<style scoped>\n",
       "    .dataframe tbody tr th:only-of-type {\n",
       "        vertical-align: middle;\n",
       "    }\n",
       "\n",
       "    .dataframe tbody tr th {\n",
       "        vertical-align: top;\n",
       "    }\n",
       "\n",
       "    .dataframe thead th {\n",
       "        text-align: right;\n",
       "    }\n",
       "</style>\n",
       "<table border=\"1\" class=\"dataframe\">\n",
       "  <thead>\n",
       "    <tr style=\"text-align: right;\">\n",
       "      <th></th>\n",
       "      <th>play_id</th>\n",
       "      <th>game_id</th>\n",
       "      <th>home_team</th>\n",
       "      <th>away_team</th>\n",
       "      <th>posteam</th>\n",
       "      <th>posteam_type</th>\n",
       "      <th>defteam</th>\n",
       "      <th>side_of_field</th>\n",
       "      <th>yardline_100</th>\n",
       "      <th>game_date</th>\n",
       "      <th>...</th>\n",
       "      <th>penalty_player_id</th>\n",
       "      <th>penalty_player_name</th>\n",
       "      <th>penalty_yards</th>\n",
       "      <th>replay_or_challenge</th>\n",
       "      <th>replay_or_challenge_result</th>\n",
       "      <th>penalty_type</th>\n",
       "      <th>defensive_two_point_attempt</th>\n",
       "      <th>defensive_two_point_conv</th>\n",
       "      <th>defensive_extra_point_attempt</th>\n",
       "      <th>defensive_extra_point_conv</th>\n",
       "    </tr>\n",
       "  </thead>\n",
       "  <tbody>\n",
       "    <tr>\n",
       "      <th>0</th>\n",
       "      <td>46</td>\n",
       "      <td>2009091000</td>\n",
       "      <td>PIT</td>\n",
       "      <td>TEN</td>\n",
       "      <td>PIT</td>\n",
       "      <td>home</td>\n",
       "      <td>TEN</td>\n",
       "      <td>TEN</td>\n",
       "      <td>30.0</td>\n",
       "      <td>2009-09-10</td>\n",
       "      <td>...</td>\n",
       "      <td>NaN</td>\n",
       "      <td>NaN</td>\n",
       "      <td>NaN</td>\n",
       "      <td>0</td>\n",
       "      <td>NaN</td>\n",
       "      <td>NaN</td>\n",
       "      <td>0.0</td>\n",
       "      <td>0.0</td>\n",
       "      <td>0.0</td>\n",
       "      <td>0.0</td>\n",
       "    </tr>\n",
       "    <tr>\n",
       "      <th>1</th>\n",
       "      <td>68</td>\n",
       "      <td>2009091000</td>\n",
       "      <td>PIT</td>\n",
       "      <td>TEN</td>\n",
       "      <td>PIT</td>\n",
       "      <td>home</td>\n",
       "      <td>TEN</td>\n",
       "      <td>PIT</td>\n",
       "      <td>58.0</td>\n",
       "      <td>2009-09-10</td>\n",
       "      <td>...</td>\n",
       "      <td>NaN</td>\n",
       "      <td>NaN</td>\n",
       "      <td>NaN</td>\n",
       "      <td>0</td>\n",
       "      <td>NaN</td>\n",
       "      <td>NaN</td>\n",
       "      <td>0.0</td>\n",
       "      <td>0.0</td>\n",
       "      <td>0.0</td>\n",
       "      <td>0.0</td>\n",
       "    </tr>\n",
       "    <tr>\n",
       "      <th>2</th>\n",
       "      <td>92</td>\n",
       "      <td>2009091000</td>\n",
       "      <td>PIT</td>\n",
       "      <td>TEN</td>\n",
       "      <td>PIT</td>\n",
       "      <td>home</td>\n",
       "      <td>TEN</td>\n",
       "      <td>PIT</td>\n",
       "      <td>53.0</td>\n",
       "      <td>2009-09-10</td>\n",
       "      <td>...</td>\n",
       "      <td>NaN</td>\n",
       "      <td>NaN</td>\n",
       "      <td>NaN</td>\n",
       "      <td>0</td>\n",
       "      <td>NaN</td>\n",
       "      <td>NaN</td>\n",
       "      <td>0.0</td>\n",
       "      <td>0.0</td>\n",
       "      <td>0.0</td>\n",
       "      <td>0.0</td>\n",
       "    </tr>\n",
       "    <tr>\n",
       "      <th>3</th>\n",
       "      <td>113</td>\n",
       "      <td>2009091000</td>\n",
       "      <td>PIT</td>\n",
       "      <td>TEN</td>\n",
       "      <td>PIT</td>\n",
       "      <td>home</td>\n",
       "      <td>TEN</td>\n",
       "      <td>PIT</td>\n",
       "      <td>56.0</td>\n",
       "      <td>2009-09-10</td>\n",
       "      <td>...</td>\n",
       "      <td>NaN</td>\n",
       "      <td>NaN</td>\n",
       "      <td>NaN</td>\n",
       "      <td>0</td>\n",
       "      <td>NaN</td>\n",
       "      <td>NaN</td>\n",
       "      <td>0.0</td>\n",
       "      <td>0.0</td>\n",
       "      <td>0.0</td>\n",
       "      <td>0.0</td>\n",
       "    </tr>\n",
       "    <tr>\n",
       "      <th>4</th>\n",
       "      <td>139</td>\n",
       "      <td>2009091000</td>\n",
       "      <td>PIT</td>\n",
       "      <td>TEN</td>\n",
       "      <td>PIT</td>\n",
       "      <td>home</td>\n",
       "      <td>TEN</td>\n",
       "      <td>PIT</td>\n",
       "      <td>56.0</td>\n",
       "      <td>2009-09-10</td>\n",
       "      <td>...</td>\n",
       "      <td>NaN</td>\n",
       "      <td>NaN</td>\n",
       "      <td>NaN</td>\n",
       "      <td>0</td>\n",
       "      <td>NaN</td>\n",
       "      <td>NaN</td>\n",
       "      <td>0.0</td>\n",
       "      <td>0.0</td>\n",
       "      <td>0.0</td>\n",
       "      <td>0.0</td>\n",
       "    </tr>\n",
       "  </tbody>\n",
       "</table>\n",
       "<p>5 rows × 255 columns</p>\n",
       "</div>"
      ],
      "text/plain": [
       "   play_id     game_id home_team away_team posteam posteam_type defteam  \\\n",
       "0       46  2009091000       PIT       TEN     PIT         home     TEN   \n",
       "1       68  2009091000       PIT       TEN     PIT         home     TEN   \n",
       "2       92  2009091000       PIT       TEN     PIT         home     TEN   \n",
       "3      113  2009091000       PIT       TEN     PIT         home     TEN   \n",
       "4      139  2009091000       PIT       TEN     PIT         home     TEN   \n",
       "\n",
       "  side_of_field  yardline_100   game_date  ...  penalty_player_id  \\\n",
       "0           TEN          30.0  2009-09-10  ...                NaN   \n",
       "1           PIT          58.0  2009-09-10  ...                NaN   \n",
       "2           PIT          53.0  2009-09-10  ...                NaN   \n",
       "3           PIT          56.0  2009-09-10  ...                NaN   \n",
       "4           PIT          56.0  2009-09-10  ...                NaN   \n",
       "\n",
       "   penalty_player_name  penalty_yards replay_or_challenge  \\\n",
       "0                  NaN            NaN                   0   \n",
       "1                  NaN            NaN                   0   \n",
       "2                  NaN            NaN                   0   \n",
       "3                  NaN            NaN                   0   \n",
       "4                  NaN            NaN                   0   \n",
       "\n",
       "   replay_or_challenge_result  penalty_type  defensive_two_point_attempt  \\\n",
       "0                         NaN           NaN                          0.0   \n",
       "1                         NaN           NaN                          0.0   \n",
       "2                         NaN           NaN                          0.0   \n",
       "3                         NaN           NaN                          0.0   \n",
       "4                         NaN           NaN                          0.0   \n",
       "\n",
       "   defensive_two_point_conv  defensive_extra_point_attempt  \\\n",
       "0                       0.0                            0.0   \n",
       "1                       0.0                            0.0   \n",
       "2                       0.0                            0.0   \n",
       "3                       0.0                            0.0   \n",
       "4                       0.0                            0.0   \n",
       "\n",
       "   defensive_extra_point_conv  \n",
       "0                         0.0  \n",
       "1                         0.0  \n",
       "2                         0.0  \n",
       "3                         0.0  \n",
       "4                         0.0  \n",
       "\n",
       "[5 rows x 255 columns]"
      ]
     },
     "execution_count": 3,
     "metadata": {},
     "output_type": "execute_result"
    }
   ],
   "source": [
    "df.head()"
   ]
  },
  {
   "cell_type": "code",
   "execution_count": 4,
   "id": "coated-backup",
   "metadata": {},
   "outputs": [
    {
     "data": {
      "text/html": [
       "<div>\n",
       "<style scoped>\n",
       "    .dataframe tbody tr th:only-of-type {\n",
       "        vertical-align: middle;\n",
       "    }\n",
       "\n",
       "    .dataframe tbody tr th {\n",
       "        vertical-align: top;\n",
       "    }\n",
       "\n",
       "    .dataframe thead th {\n",
       "        text-align: right;\n",
       "    }\n",
       "</style>\n",
       "<table border=\"1\" class=\"dataframe\">\n",
       "  <thead>\n",
       "    <tr style=\"text-align: right;\">\n",
       "      <th></th>\n",
       "      <th>play_id</th>\n",
       "      <th>game_id</th>\n",
       "      <th>yardline_100</th>\n",
       "      <th>quarter_seconds_remaining</th>\n",
       "      <th>half_seconds_remaining</th>\n",
       "      <th>game_seconds_remaining</th>\n",
       "      <th>quarter_end</th>\n",
       "      <th>drive</th>\n",
       "      <th>sp</th>\n",
       "      <th>qtr</th>\n",
       "      <th>...</th>\n",
       "      <th>assist_tackle_4_team</th>\n",
       "      <th>fumble_recovery_1_yards</th>\n",
       "      <th>fumble_recovery_2_yards</th>\n",
       "      <th>return_yards</th>\n",
       "      <th>penalty_yards</th>\n",
       "      <th>replay_or_challenge</th>\n",
       "      <th>defensive_two_point_attempt</th>\n",
       "      <th>defensive_two_point_conv</th>\n",
       "      <th>defensive_extra_point_attempt</th>\n",
       "      <th>defensive_extra_point_conv</th>\n",
       "    </tr>\n",
       "  </thead>\n",
       "  <tbody>\n",
       "    <tr>\n",
       "      <th>count</th>\n",
       "      <td>449371.000000</td>\n",
       "      <td>4.493710e+05</td>\n",
       "      <td>436301.000000</td>\n",
       "      <td>449230.000000</td>\n",
       "      <td>449206.000000</td>\n",
       "      <td>449208.000000</td>\n",
       "      <td>449371.000000</td>\n",
       "      <td>449371.000000</td>\n",
       "      <td>449371.000000</td>\n",
       "      <td>449371.000000</td>\n",
       "      <td>...</td>\n",
       "      <td>0.0</td>\n",
       "      <td>6026.000000</td>\n",
       "      <td>47.000000</td>\n",
       "      <td>449350.000000</td>\n",
       "      <td>32618.000000</td>\n",
       "      <td>449371.000000</td>\n",
       "      <td>436497.000000</td>\n",
       "      <td>436497.000000</td>\n",
       "      <td>436497.0</td>\n",
       "      <td>436497.0</td>\n",
       "    </tr>\n",
       "    <tr>\n",
       "      <th>mean</th>\n",
       "      <td>2140.689606</td>\n",
       "      <td>2.013620e+09</td>\n",
       "      <td>49.800658</td>\n",
       "      <td>413.968820</td>\n",
       "      <td>810.775709</td>\n",
       "      <td>1700.697033</td>\n",
       "      <td>0.017111</td>\n",
       "      <td>12.275053</td>\n",
       "      <td>0.072090</td>\n",
       "      <td>2.577696</td>\n",
       "      <td>...</td>\n",
       "      <td>NaN</td>\n",
       "      <td>2.302688</td>\n",
       "      <td>4.808511</td>\n",
       "      <td>1.042773</td>\n",
       "      <td>8.487829</td>\n",
       "      <td>0.001823</td>\n",
       "      <td>0.000069</td>\n",
       "      <td>0.000014</td>\n",
       "      <td>0.0</td>\n",
       "      <td>0.0</td>\n",
       "    </tr>\n",
       "    <tr>\n",
       "      <th>std</th>\n",
       "      <td>1240.303671</td>\n",
       "      <td>2.842246e+06</td>\n",
       "      <td>25.062131</td>\n",
       "      <td>279.137304</td>\n",
       "      <td>554.712205</td>\n",
       "      <td>1053.533368</td>\n",
       "      <td>0.129684</td>\n",
       "      <td>7.124626</td>\n",
       "      <td>0.258637</td>\n",
       "      <td>1.129958</td>\n",
       "      <td>...</td>\n",
       "      <td>NaN</td>\n",
       "      <td>9.066064</td>\n",
       "      <td>14.961746</td>\n",
       "      <td>5.462253</td>\n",
       "      <td>5.323953</td>\n",
       "      <td>0.042652</td>\n",
       "      <td>0.008290</td>\n",
       "      <td>0.003708</td>\n",
       "      <td>0.0</td>\n",
       "      <td>0.0</td>\n",
       "    </tr>\n",
       "    <tr>\n",
       "      <th>min</th>\n",
       "      <td>35.000000</td>\n",
       "      <td>2.009091e+09</td>\n",
       "      <td>1.000000</td>\n",
       "      <td>0.000000</td>\n",
       "      <td>0.000000</td>\n",
       "      <td>0.000000</td>\n",
       "      <td>0.000000</td>\n",
       "      <td>1.000000</td>\n",
       "      <td>0.000000</td>\n",
       "      <td>1.000000</td>\n",
       "      <td>...</td>\n",
       "      <td>NaN</td>\n",
       "      <td>-34.000000</td>\n",
       "      <td>-16.000000</td>\n",
       "      <td>-18.000000</td>\n",
       "      <td>0.000000</td>\n",
       "      <td>0.000000</td>\n",
       "      <td>0.000000</td>\n",
       "      <td>0.000000</td>\n",
       "      <td>0.0</td>\n",
       "      <td>0.0</td>\n",
       "    </tr>\n",
       "    <tr>\n",
       "      <th>25%</th>\n",
       "      <td>1074.000000</td>\n",
       "      <td>2.011111e+09</td>\n",
       "      <td>31.000000</td>\n",
       "      <td>152.000000</td>\n",
       "      <td>286.000000</td>\n",
       "      <td>784.000000</td>\n",
       "      <td>0.000000</td>\n",
       "      <td>6.000000</td>\n",
       "      <td>0.000000</td>\n",
       "      <td>2.000000</td>\n",
       "      <td>...</td>\n",
       "      <td>NaN</td>\n",
       "      <td>0.000000</td>\n",
       "      <td>0.000000</td>\n",
       "      <td>0.000000</td>\n",
       "      <td>5.000000</td>\n",
       "      <td>0.000000</td>\n",
       "      <td>0.000000</td>\n",
       "      <td>0.000000</td>\n",
       "      <td>0.0</td>\n",
       "      <td>0.0</td>\n",
       "    </tr>\n",
       "    <tr>\n",
       "      <th>50%</th>\n",
       "      <td>2125.000000</td>\n",
       "      <td>2.013123e+09</td>\n",
       "      <td>52.000000</td>\n",
       "      <td>396.000000</td>\n",
       "      <td>797.000000</td>\n",
       "      <td>1800.000000</td>\n",
       "      <td>0.000000</td>\n",
       "      <td>12.000000</td>\n",
       "      <td>0.000000</td>\n",
       "      <td>3.000000</td>\n",
       "      <td>...</td>\n",
       "      <td>NaN</td>\n",
       "      <td>0.000000</td>\n",
       "      <td>0.000000</td>\n",
       "      <td>0.000000</td>\n",
       "      <td>5.000000</td>\n",
       "      <td>0.000000</td>\n",
       "      <td>0.000000</td>\n",
       "      <td>0.000000</td>\n",
       "      <td>0.0</td>\n",
       "      <td>0.0</td>\n",
       "    </tr>\n",
       "    <tr>\n",
       "      <th>75%</th>\n",
       "      <td>3180.000000</td>\n",
       "      <td>2.016103e+09</td>\n",
       "      <td>71.000000</td>\n",
       "      <td>656.000000</td>\n",
       "      <td>1288.000000</td>\n",
       "      <td>2583.000000</td>\n",
       "      <td>0.000000</td>\n",
       "      <td>18.000000</td>\n",
       "      <td>0.000000</td>\n",
       "      <td>4.000000</td>\n",
       "      <td>...</td>\n",
       "      <td>NaN</td>\n",
       "      <td>0.000000</td>\n",
       "      <td>4.000000</td>\n",
       "      <td>0.000000</td>\n",
       "      <td>10.000000</td>\n",
       "      <td>0.000000</td>\n",
       "      <td>0.000000</td>\n",
       "      <td>0.000000</td>\n",
       "      <td>0.0</td>\n",
       "      <td>0.0</td>\n",
       "    </tr>\n",
       "    <tr>\n",
       "      <th>max</th>\n",
       "      <td>5706.000000</td>\n",
       "      <td>2.018122e+09</td>\n",
       "      <td>99.000000</td>\n",
       "      <td>900.000000</td>\n",
       "      <td>1800.000000</td>\n",
       "      <td>3600.000000</td>\n",
       "      <td>1.000000</td>\n",
       "      <td>38.000000</td>\n",
       "      <td>1.000000</td>\n",
       "      <td>5.000000</td>\n",
       "      <td>...</td>\n",
       "      <td>NaN</td>\n",
       "      <td>93.000000</td>\n",
       "      <td>77.000000</td>\n",
       "      <td>109.000000</td>\n",
       "      <td>66.000000</td>\n",
       "      <td>1.000000</td>\n",
       "      <td>1.000000</td>\n",
       "      <td>1.000000</td>\n",
       "      <td>0.0</td>\n",
       "      <td>0.0</td>\n",
       "    </tr>\n",
       "  </tbody>\n",
       "</table>\n",
       "<p>8 rows × 153 columns</p>\n",
       "</div>"
      ],
      "text/plain": [
       "             play_id       game_id   yardline_100  quarter_seconds_remaining  \\\n",
       "count  449371.000000  4.493710e+05  436301.000000              449230.000000   \n",
       "mean     2140.689606  2.013620e+09      49.800658                 413.968820   \n",
       "std      1240.303671  2.842246e+06      25.062131                 279.137304   \n",
       "min        35.000000  2.009091e+09       1.000000                   0.000000   \n",
       "25%      1074.000000  2.011111e+09      31.000000                 152.000000   \n",
       "50%      2125.000000  2.013123e+09      52.000000                 396.000000   \n",
       "75%      3180.000000  2.016103e+09      71.000000                 656.000000   \n",
       "max      5706.000000  2.018122e+09      99.000000                 900.000000   \n",
       "\n",
       "       half_seconds_remaining  game_seconds_remaining    quarter_end  \\\n",
       "count           449206.000000           449208.000000  449371.000000   \n",
       "mean               810.775709             1700.697033       0.017111   \n",
       "std                554.712205             1053.533368       0.129684   \n",
       "min                  0.000000                0.000000       0.000000   \n",
       "25%                286.000000              784.000000       0.000000   \n",
       "50%                797.000000             1800.000000       0.000000   \n",
       "75%               1288.000000             2583.000000       0.000000   \n",
       "max               1800.000000             3600.000000       1.000000   \n",
       "\n",
       "               drive             sp            qtr  ...  assist_tackle_4_team  \\\n",
       "count  449371.000000  449371.000000  449371.000000  ...                   0.0   \n",
       "mean       12.275053       0.072090       2.577696  ...                   NaN   \n",
       "std         7.124626       0.258637       1.129958  ...                   NaN   \n",
       "min         1.000000       0.000000       1.000000  ...                   NaN   \n",
       "25%         6.000000       0.000000       2.000000  ...                   NaN   \n",
       "50%        12.000000       0.000000       3.000000  ...                   NaN   \n",
       "75%        18.000000       0.000000       4.000000  ...                   NaN   \n",
       "max        38.000000       1.000000       5.000000  ...                   NaN   \n",
       "\n",
       "       fumble_recovery_1_yards  fumble_recovery_2_yards   return_yards  \\\n",
       "count              6026.000000                47.000000  449350.000000   \n",
       "mean                  2.302688                 4.808511       1.042773   \n",
       "std                   9.066064                14.961746       5.462253   \n",
       "min                 -34.000000               -16.000000     -18.000000   \n",
       "25%                   0.000000                 0.000000       0.000000   \n",
       "50%                   0.000000                 0.000000       0.000000   \n",
       "75%                   0.000000                 4.000000       0.000000   \n",
       "max                  93.000000                77.000000     109.000000   \n",
       "\n",
       "       penalty_yards  replay_or_challenge  defensive_two_point_attempt  \\\n",
       "count   32618.000000        449371.000000                436497.000000   \n",
       "mean        8.487829             0.001823                     0.000069   \n",
       "std         5.323953             0.042652                     0.008290   \n",
       "min         0.000000             0.000000                     0.000000   \n",
       "25%         5.000000             0.000000                     0.000000   \n",
       "50%         5.000000             0.000000                     0.000000   \n",
       "75%        10.000000             0.000000                     0.000000   \n",
       "max        66.000000             1.000000                     1.000000   \n",
       "\n",
       "       defensive_two_point_conv  defensive_extra_point_attempt  \\\n",
       "count             436497.000000                       436497.0   \n",
       "mean                   0.000014                            0.0   \n",
       "std                    0.003708                            0.0   \n",
       "min                    0.000000                            0.0   \n",
       "25%                    0.000000                            0.0   \n",
       "50%                    0.000000                            0.0   \n",
       "75%                    0.000000                            0.0   \n",
       "max                    1.000000                            0.0   \n",
       "\n",
       "       defensive_extra_point_conv  \n",
       "count                    436497.0  \n",
       "mean                          0.0  \n",
       "std                           0.0  \n",
       "min                           0.0  \n",
       "25%                           0.0  \n",
       "50%                           0.0  \n",
       "75%                           0.0  \n",
       "max                           0.0  \n",
       "\n",
       "[8 rows x 153 columns]"
      ]
     },
     "execution_count": 4,
     "metadata": {},
     "output_type": "execute_result"
    }
   ],
   "source": [
    "df.describe()"
   ]
  },
  {
   "cell_type": "code",
   "execution_count": 5,
   "id": "prerequisite-nomination",
   "metadata": {},
   "outputs": [],
   "source": [
    "# df[[\"posteam\",\"posteam_score\",\"defteam_score\",\"score_differential\"]]"
   ]
  },
  {
   "cell_type": "code",
   "execution_count": 6,
   "id": "drawn-tournament",
   "metadata": {},
   "outputs": [
    {
     "name": "stdout",
     "output_type": "stream",
     "text": [
      "Index(['play_id', 'game_id', 'home_team', 'away_team', 'posteam',\n",
      "       'posteam_type', 'defteam', 'side_of_field', 'yardline_100',\n",
      "       'game_date'],\n",
      "      dtype='object')\n",
      "Index(['quarter_seconds_remaining', 'half_seconds_remaining',\n",
      "       'game_seconds_remaining', 'game_half', 'quarter_end', 'drive', 'sp',\n",
      "       'qtr', 'down', 'goal_to_go'],\n",
      "      dtype='object')\n",
      "Index(['time', 'yrdln', 'ydstogo', 'ydsnet', 'desc', 'play_type',\n",
      "       'yards_gained', 'shotgun', 'no_huddle', 'qb_dropback'],\n",
      "      dtype='object')\n",
      "Index(['qb_kneel', 'qb_spike', 'qb_scramble', 'pass_length', 'pass_location',\n",
      "       'air_yards', 'yards_after_catch', 'run_location', 'run_gap',\n",
      "       'field_goal_result'],\n",
      "      dtype='object')\n",
      "Index(['kick_distance', 'extra_point_result', 'two_point_conv_result',\n",
      "       'home_timeouts_remaining', 'away_timeouts_remaining', 'timeout',\n",
      "       'timeout_team', 'td_team', 'posteam_timeouts_remaining',\n",
      "       'defteam_timeouts_remaining'],\n",
      "      dtype='object')\n",
      "Index(['total_home_score', 'total_away_score', 'posteam_score',\n",
      "       'defteam_score', 'score_differential', 'posteam_score_post',\n",
      "       'defteam_score_post', 'score_differential_post', 'no_score_prob',\n",
      "       'opp_fg_prob'],\n",
      "      dtype='object')\n",
      "Index(['opp_safety_prob', 'opp_td_prob', 'fg_prob', 'safety_prob', 'td_prob',\n",
      "       'extra_point_prob', 'two_point_conversion_prob', 'ep', 'epa',\n",
      "       'total_home_epa'],\n",
      "      dtype='object')\n",
      "Index(['total_away_epa', 'total_home_rush_epa', 'total_away_rush_epa',\n",
      "       'total_home_pass_epa', 'total_away_pass_epa', 'air_epa', 'yac_epa',\n",
      "       'comp_air_epa', 'comp_yac_epa', 'total_home_comp_air_epa'],\n",
      "      dtype='object')\n",
      "Index(['total_away_comp_air_epa', 'total_home_comp_yac_epa',\n",
      "       'total_away_comp_yac_epa', 'total_home_raw_air_epa',\n",
      "       'total_away_raw_air_epa', 'total_home_raw_yac_epa',\n",
      "       'total_away_raw_yac_epa', 'wp', 'def_wp', 'home_wp'],\n",
      "      dtype='object')\n",
      "Index(['away_wp', 'wpa', 'home_wp_post', 'away_wp_post', 'total_home_rush_wpa',\n",
      "       'total_away_rush_wpa', 'total_home_pass_wpa', 'total_away_pass_wpa',\n",
      "       'air_wpa', 'yac_wpa'],\n",
      "      dtype='object')\n",
      "Index(['comp_air_wpa', 'comp_yac_wpa', 'total_home_comp_air_wpa',\n",
      "       'total_away_comp_air_wpa', 'total_home_comp_yac_wpa',\n",
      "       'total_away_comp_yac_wpa', 'total_home_raw_air_wpa',\n",
      "       'total_away_raw_air_wpa', 'total_home_raw_yac_wpa',\n",
      "       'total_away_raw_yac_wpa'],\n",
      "      dtype='object')\n",
      "Index(['punt_blocked', 'first_down_rush', 'first_down_pass',\n",
      "       'first_down_penalty', 'third_down_converted', 'third_down_failed',\n",
      "       'fourth_down_converted', 'fourth_down_failed', 'incomplete_pass',\n",
      "       'interception'],\n",
      "      dtype='object')\n",
      "Index(['punt_inside_twenty', 'punt_in_endzone', 'punt_out_of_bounds',\n",
      "       'punt_downed', 'punt_fair_catch', 'kickoff_inside_twenty',\n",
      "       'kickoff_in_endzone', 'kickoff_out_of_bounds', 'kickoff_downed',\n",
      "       'kickoff_fair_catch'],\n",
      "      dtype='object')\n",
      "Index(['fumble_forced', 'fumble_not_forced', 'fumble_out_of_bounds',\n",
      "       'solo_tackle', 'safety', 'penalty', 'tackled_for_loss', 'fumble_lost',\n",
      "       'own_kickoff_recovery', 'own_kickoff_recovery_td'],\n",
      "      dtype='object')\n",
      "Index(['qb_hit', 'rush_attempt', 'pass_attempt', 'sack', 'touchdown',\n",
      "       'pass_touchdown', 'rush_touchdown', 'return_touchdown',\n",
      "       'extra_point_attempt', 'two_point_attempt'],\n",
      "      dtype='object')\n",
      "Index(['field_goal_attempt', 'kickoff_attempt', 'punt_attempt', 'fumble',\n",
      "       'complete_pass', 'assist_tackle', 'lateral_reception', 'lateral_rush',\n",
      "       'lateral_return', 'lateral_recovery'],\n",
      "      dtype='object')\n",
      "Index(['passer_player_id', 'passer_player_name', 'receiver_player_id',\n",
      "       'receiver_player_name', 'rusher_player_id', 'rusher_player_name',\n",
      "       'lateral_receiver_player_id', 'lateral_receiver_player_name',\n",
      "       'lateral_rusher_player_id', 'lateral_rusher_player_name'],\n",
      "      dtype='object')\n",
      "Index(['lateral_sack_player_id', 'lateral_sack_player_name',\n",
      "       'interception_player_id', 'interception_player_name',\n",
      "       'lateral_interception_player_id', 'lateral_interception_player_name',\n",
      "       'punt_returner_player_id', 'punt_returner_player_name',\n",
      "       'lateral_punt_returner_player_id', 'lateral_punt_returner_player_name'],\n",
      "      dtype='object')\n",
      "Index(['kickoff_returner_player_name', 'kickoff_returner_player_id',\n",
      "       'lateral_kickoff_returner_player_id',\n",
      "       'lateral_kickoff_returner_player_name', 'punter_player_id',\n",
      "       'punter_player_name', 'kicker_player_name', 'kicker_player_id',\n",
      "       'own_kickoff_recovery_player_id', 'own_kickoff_recovery_player_name'],\n",
      "      dtype='object')\n",
      "Index(['blocked_player_id', 'blocked_player_name',\n",
      "       'tackle_for_loss_1_player_id', 'tackle_for_loss_1_player_name',\n",
      "       'tackle_for_loss_2_player_id', 'tackle_for_loss_2_player_name',\n",
      "       'qb_hit_1_player_id', 'qb_hit_1_player_name', 'qb_hit_2_player_id',\n",
      "       'qb_hit_2_player_name'],\n",
      "      dtype='object')\n",
      "Index(['forced_fumble_player_1_team', 'forced_fumble_player_1_player_id',\n",
      "       'forced_fumble_player_1_player_name', 'forced_fumble_player_2_team',\n",
      "       'forced_fumble_player_2_player_id',\n",
      "       'forced_fumble_player_2_player_name', 'solo_tackle_1_team',\n",
      "       'solo_tackle_2_team', 'solo_tackle_1_player_id',\n",
      "       'solo_tackle_2_player_id'],\n",
      "      dtype='object')\n",
      "Index(['solo_tackle_1_player_name', 'solo_tackle_2_player_name',\n",
      "       'assist_tackle_1_player_id', 'assist_tackle_1_player_name',\n",
      "       'assist_tackle_1_team', 'assist_tackle_2_player_id',\n",
      "       'assist_tackle_2_player_name', 'assist_tackle_2_team',\n",
      "       'assist_tackle_3_player_id', 'assist_tackle_3_player_name'],\n",
      "      dtype='object')\n",
      "Index(['assist_tackle_3_team', 'assist_tackle_4_player_id',\n",
      "       'assist_tackle_4_player_name', 'assist_tackle_4_team',\n",
      "       'pass_defense_1_player_id', 'pass_defense_1_player_name',\n",
      "       'pass_defense_2_player_id', 'pass_defense_2_player_name',\n",
      "       'fumbled_1_team', 'fumbled_1_player_id'],\n",
      "      dtype='object')\n",
      "Index(['fumbled_1_player_name', 'fumbled_2_player_id', 'fumbled_2_player_name',\n",
      "       'fumbled_2_team', 'fumble_recovery_1_team', 'fumble_recovery_1_yards',\n",
      "       'fumble_recovery_1_player_id', 'fumble_recovery_1_player_name',\n",
      "       'fumble_recovery_2_team', 'fumble_recovery_2_yards'],\n",
      "      dtype='object')\n",
      "Index(['fumble_recovery_2_player_id', 'fumble_recovery_2_player_name',\n",
      "       'return_team', 'return_yards', 'penalty_team', 'penalty_player_id',\n",
      "       'penalty_player_name', 'penalty_yards', 'replay_or_challenge',\n",
      "       'replay_or_challenge_result'],\n",
      "      dtype='object')\n",
      "Index(['penalty_type', 'defensive_two_point_attempt',\n",
      "       'defensive_two_point_conv', 'defensive_extra_point_attempt',\n",
      "       'defensive_extra_point_conv'],\n",
      "      dtype='object')\n"
     ]
    }
   ],
   "source": [
    "for i in range(int(df.shape[1]/10) + 1):\n",
    "    print(df.columns[i*10:10*(i+1)])"
   ]
  },
  {
   "cell_type": "code",
   "execution_count": 7,
   "id": "wired-injury",
   "metadata": {},
   "outputs": [],
   "source": [
    "#limit to only pass and run plays\n",
    "# cols = ['home_team','away_team','posteam','posteam_type', 'defteam', 'side_of_field', 'yardline_100',\n",
    "#        'quarter_seconds_remaining', 'half_seconds_remaining',\n",
    "#        'game_seconds_remaining', 'game_half','down','ydstogo','time', 'shotgun', 'qb_dropback']\n",
    "\n",
    "cols = ['down',\n",
    "        'no_huddle',\n",
    "        'goal_to_go',\n",
    "        'sp',\n",
    "        'defteam_score',\n",
    "        'half_seconds_remaining',\n",
    "        'quarter_seconds_remaining',\n",
    "        'posteam_timeouts_remaining',\n",
    "        'score_differential',\n",
    "        'posteam_score',\n",
    "        'game_seconds_remaining',\n",
    "        'ydstogo']\n",
    "y = 'play_type'\n",
    "pass_run = df[(df.play_type == \"run\" )| (df.play_type == \"pass\")]\n",
    "pass_run = pass_run[~pass_run.down.isna()]\n",
    "# pass_run = pass_run[cols]\n",
    "\n",
    "\n",
    "# cats = [\"play_type\",\"posteam_type\",\"game_half\",\"down\"]\n",
    "X = pass_run[cols].fillna(0)\n",
    "Y = pass_run[[y]]"
   ]
  },
  {
   "cell_type": "code",
   "execution_count": 8,
   "id": "trained-allen",
   "metadata": {},
   "outputs": [],
   "source": [
    "enc = joblib.load('./joblibs/encoder.joblib')"
   ]
  },
  {
   "cell_type": "code",
   "execution_count": 8,
   "id": "direct-measurement",
   "metadata": {},
   "outputs": [
    {
     "data": {
      "text/plain": [
       "['encoder.joblib']"
      ]
     },
     "execution_count": 8,
     "metadata": {},
     "output_type": "execute_result"
    }
   ],
   "source": [
    "# enc = OneHotEncoder(handle_unknown='ignore')\n",
    "# enc = enc.fit(X[X.columns[0:2]])\n",
    "\n",
    "# #https://stackoverflow.com/questions/58185671/how-to-save-one-hot-encoder\n",
    "# from joblib import dump, load\n",
    "# dump(enc, 'encoder.joblib') # save the encoder"
   ]
  },
  {
   "cell_type": "code",
   "execution_count": 9,
   "id": "outstanding-partnership",
   "metadata": {},
   "outputs": [],
   "source": [
    "X_enc = enc.transform(X[X.columns[0:2]])\n",
    "X_enc= X_enc.toarray()\n",
    "X_cont = np.array(pass_run[[col for col in X.columns if col not in X.columns[0:2]]])\n",
    "X_cont.shape\n",
    "X_p = np.concatenate([X_cont,X_enc[:,2::]],axis=1)\n",
    "X_p[np.where(np.isnan(X_p))] = 0"
   ]
  },
  {
   "cell_type": "code",
   "execution_count": null,
   "id": "addressed-width",
   "metadata": {},
   "outputs": [],
   "source": []
  },
  {
   "cell_type": "code",
   "execution_count": null,
   "id": "copyrighted-surname",
   "metadata": {},
   "outputs": [],
   "source": []
  },
  {
   "cell_type": "code",
   "execution_count": 10,
   "id": "sonic-aruba",
   "metadata": {},
   "outputs": [
    {
     "data": {
      "text/plain": [
       "[array([1., 2., 3., 4.]), array([0, 1])]"
      ]
     },
     "execution_count": 10,
     "metadata": {},
     "output_type": "execute_result"
    }
   ],
   "source": [
    "enc.categories_"
   ]
  },
  {
   "cell_type": "code",
   "execution_count": 11,
   "id": "caring-toronto",
   "metadata": {},
   "outputs": [
    {
     "data": {
      "image/png": "[encoded data removed]",
      "text/plain": [
       "<Figure size 1440x1080 with 156 Axes>"
      ]
     },
     "metadata": {
      "needs_background": "light"
     },
     "output_type": "display_data"
    }
   ],
   "source": [
    "%matplotlib inline\n",
    "import matplotlib.pyplot as plt\n",
    "pass_run.hist(bins=50, figsize=(20,15))\n",
    "plt.show()"
   ]
  },
  {
   "cell_type": "code",
   "execution_count": 12,
   "id": "welcome-mortality",
   "metadata": {},
   "outputs": [],
   "source": [
    "train_X, test_X, train_Y, test_Y = train_test_split(X_p, Y, random_state = 0)"
   ]
  },
  {
   "cell_type": "code",
   "execution_count": 13,
   "id": "prescribed-swing",
   "metadata": {},
   "outputs": [
    {
     "data": {
      "text/plain": [
       "0.684510436408821"
      ]
     },
     "execution_count": 13,
     "metadata": {},
     "output_type": "execute_result"
    }
   ],
   "source": [
    "dt = DecisionTreeClassifier(min_samples_leaf = int(len(train_X)/100), max_depth = 32,random_state=20,\n",
    "                            criterion='entropy')\n",
    "dt.fit(train_X,train_Y)\n",
    "accuracy_score(test_Y,dt.predict(test_X))"
   ]
  },
  {
   "cell_type": "code",
   "execution_count": 14,
   "id": "unlikely-destination",
   "metadata": {},
   "outputs": [
    {
     "data": {
      "text/plain": [
       "['./joblibs/dt.joblib']"
      ]
     },
     "execution_count": 14,
     "metadata": {},
     "output_type": "execute_result"
    }
   ],
   "source": [
    "dump(dt,'./joblibs/dt.joblib')"
   ]
  },
  {
   "cell_type": "code",
   "execution_count": 110,
   "id": "herbal-vegetable",
   "metadata": {},
   "outputs": [
    {
     "ename": "ModuleNotFoundError",
     "evalue": "No module named 'pydotplus'",
     "output_type": "error",
     "traceback": [
      "\u001b[0;31m---------------------------------------------------------------------------\u001b[0m",
      "\u001b[0;31mModuleNotFoundError\u001b[0m                       Traceback (most recent call last)",
      "\u001b[0;32m<ipython-input-110-d2ba99bbb763>\u001b[0m in \u001b[0;36m<module>\u001b[0;34m\u001b[0m\n\u001b[0;32m----> 1\u001b[0;31m \u001b[0;32mimport\u001b[0m \u001b[0mpydotplus\u001b[0m\u001b[0;34m\u001b[0m\u001b[0;34m\u001b[0m\u001b[0m\n\u001b[0m\u001b[1;32m      2\u001b[0m \u001b[0;32mfrom\u001b[0m \u001b[0mIPython\u001b[0m\u001b[0;34m.\u001b[0m\u001b[0mdisplay\u001b[0m \u001b[0;32mimport\u001b[0m \u001b[0mImage\u001b[0m\u001b[0;34m\u001b[0m\u001b[0;34m\u001b[0m\u001b[0m\n\u001b[1;32m      3\u001b[0m \u001b[0;34m\u001b[0m\u001b[0m\n\u001b[1;32m      4\u001b[0m \u001b[0;31m# dt_feature_names = list(x.columns)\u001b[0m\u001b[0;34m\u001b[0m\u001b[0;34m\u001b[0m\u001b[0;34m\u001b[0m\u001b[0m\n\u001b[1;32m      5\u001b[0m \u001b[0;31m# dt_target_names = [cal for col in cols if col ~= \"play_type\"]\u001b[0m\u001b[0;34m\u001b[0m\u001b[0;34m\u001b[0m\u001b[0;34m\u001b[0m\u001b[0m\n",
      "\u001b[0;31mModuleNotFoundError\u001b[0m: No module named 'pydotplus'"
     ]
    }
   ],
   "source": [
    "import pydotplus\n",
    "from IPython.display import Image\n",
    "\n",
    "# dt_feature_names = list(x.columns)\n",
    "# dt_target_names = [cal for col in cols if col ~= \"play_type\"]\n",
    "# export_graphviz(dt, out_file='tree.dot', \n",
    "#     feature_names=dt_feature_names, class_names=dt_target_names,\n",
    "#     filled=True)  \n",
    "export_graphviz(dt,out_file='tree.dot',class_names = [\"pass\",\"run\"], filled = True)\n",
    "graph = pydotplus.graph_from_dot_file('tree.dot')\n",
    "Image(graph.create_png())"
   ]
  },
  {
   "cell_type": "code",
   "execution_count": 46,
   "id": "disturbed-farming",
   "metadata": {},
   "outputs": [
    {
     "data": {
      "text/plain": [
       "0.6775946682062932"
      ]
     },
     "execution_count": 46,
     "metadata": {},
     "output_type": "execute_result"
    }
   ],
   "source": []
  },
  {
   "cell_type": "code",
   "execution_count": 19,
   "id": "subtle-malpractice",
   "metadata": {},
   "outputs": [],
   "source": [
    "tree_count = np.array(range(1,50))*10\n",
    "rf_error = np.zeros(len(tree_count))\n",
    "dt_error = np.ones(len(tree_count)) - accuracy_score(test_Y,dt.predict(test_X))"
   ]
  },
  {
   "cell_type": "code",
   "execution_count": 20,
   "id": "failing-corner",
   "metadata": {},
   "outputs": [
    {
     "name": "stderr",
     "output_type": "stream",
     "text": [
      "<ipython-input-20-1b4aa30dbbc2>:3: DataConversionWarning: A column-vector y was passed when a 1d array was expected. Please change the shape of y to (n_samples,), for example using ravel().\n",
      "  rf.fit(train_X,train_Y)\n",
      "<ipython-input-20-1b4aa30dbbc2>:3: DataConversionWarning: A column-vector y was passed when a 1d array was expected. Please change the shape of y to (n_samples,), for example using ravel().\n",
      "  rf.fit(train_X,train_Y)\n",
      "<ipython-input-20-1b4aa30dbbc2>:3: DataConversionWarning: A column-vector y was passed when a 1d array was expected. Please change the shape of y to (n_samples,), for example using ravel().\n",
      "  rf.fit(train_X,train_Y)\n",
      "<ipython-input-20-1b4aa30dbbc2>:3: DataConversionWarning: A column-vector y was passed when a 1d array was expected. Please change the shape of y to (n_samples,), for example using ravel().\n",
      "  rf.fit(train_X,train_Y)\n",
      "<ipython-input-20-1b4aa30dbbc2>:3: DataConversionWarning: A column-vector y was passed when a 1d array was expected. Please change the shape of y to (n_samples,), for example using ravel().\n",
      "  rf.fit(train_X,train_Y)\n",
      "<ipython-input-20-1b4aa30dbbc2>:3: DataConversionWarning: A column-vector y was passed when a 1d array was expected. Please change the shape of y to (n_samples,), for example using ravel().\n",
      "  rf.fit(train_X,train_Y)\n",
      "<ipython-input-20-1b4aa30dbbc2>:3: DataConversionWarning: A column-vector y was passed when a 1d array was expected. Please change the shape of y to (n_samples,), for example using ravel().\n",
      "  rf.fit(train_X,train_Y)\n",
      "<ipython-input-20-1b4aa30dbbc2>:3: DataConversionWarning: A column-vector y was passed when a 1d array was expected. Please change the shape of y to (n_samples,), for example using ravel().\n",
      "  rf.fit(train_X,train_Y)\n"
     ]
    },
    {
     "ename": "KeyboardInterrupt",
     "evalue": "",
     "output_type": "error",
     "traceback": [
      "\u001b[0;31m---------------------------------------------------------------------------\u001b[0m",
      "\u001b[0;31mKeyboardInterrupt\u001b[0m                         Traceback (most recent call last)",
      "\u001b[0;32m<ipython-input-20-1b4aa30dbbc2>\u001b[0m in \u001b[0;36m<module>\u001b[0;34m\u001b[0m\n\u001b[1;32m      1\u001b[0m \u001b[0;32mfor\u001b[0m \u001b[0mi\u001b[0m\u001b[0;34m,\u001b[0m\u001b[0mtrees\u001b[0m \u001b[0;32min\u001b[0m \u001b[0menumerate\u001b[0m\u001b[0;34m(\u001b[0m\u001b[0mtree_count\u001b[0m\u001b[0;34m)\u001b[0m\u001b[0;34m:\u001b[0m\u001b[0;34m\u001b[0m\u001b[0;34m\u001b[0m\u001b[0m\n\u001b[1;32m      2\u001b[0m     \u001b[0mrf\u001b[0m \u001b[0;34m=\u001b[0m \u001b[0mRandomForestClassifier\u001b[0m\u001b[0;34m(\u001b[0m\u001b[0mmin_samples_leaf\u001b[0m \u001b[0;34m=\u001b[0m \u001b[0mint\u001b[0m\u001b[0;34m(\u001b[0m\u001b[0mlen\u001b[0m\u001b[0;34m(\u001b[0m\u001b[0mtrain_X\u001b[0m\u001b[0;34m)\u001b[0m\u001b[0;34m/\u001b[0m\u001b[0;36m20\u001b[0m\u001b[0;34m)\u001b[0m\u001b[0;34m,\u001b[0m\u001b[0mn_estimators\u001b[0m \u001b[0;34m=\u001b[0m \u001b[0mtrees\u001b[0m\u001b[0;34m)\u001b[0m\u001b[0;34m\u001b[0m\u001b[0;34m\u001b[0m\u001b[0m\n\u001b[0;32m----> 3\u001b[0;31m     \u001b[0mrf\u001b[0m\u001b[0;34m.\u001b[0m\u001b[0mfit\u001b[0m\u001b[0;34m(\u001b[0m\u001b[0mtrain_X\u001b[0m\u001b[0;34m,\u001b[0m\u001b[0mtrain_Y\u001b[0m\u001b[0;34m)\u001b[0m\u001b[0;34m\u001b[0m\u001b[0;34m\u001b[0m\u001b[0m\n\u001b[0m\u001b[1;32m      4\u001b[0m     \u001b[0mrf_error\u001b[0m\u001b[0;34m[\u001b[0m\u001b[0mi\u001b[0m\u001b[0;34m]\u001b[0m \u001b[0;34m=\u001b[0m \u001b[0;36m1\u001b[0m \u001b[0;34m-\u001b[0m \u001b[0maccuracy_score\u001b[0m\u001b[0;34m(\u001b[0m\u001b[0mtest_Y\u001b[0m\u001b[0;34m,\u001b[0m\u001b[0mrf\u001b[0m\u001b[0;34m.\u001b[0m\u001b[0mpredict\u001b[0m\u001b[0;34m(\u001b[0m\u001b[0mtest_X\u001b[0m\u001b[0;34m)\u001b[0m\u001b[0;34m)\u001b[0m\u001b[0;34m\u001b[0m\u001b[0;34m\u001b[0m\u001b[0m\n",
      "\u001b[0;32m/opt/anaconda3/lib/python3.8/site-packages/sklearn/ensemble/_forest.py\u001b[0m in \u001b[0;36mfit\u001b[0;34m(self, X, y, sample_weight)\u001b[0m\n\u001b[1;32m    384\u001b[0m             \u001b[0;31m# parallel_backend contexts set at a higher level,\u001b[0m\u001b[0;34m\u001b[0m\u001b[0;34m\u001b[0m\u001b[0;34m\u001b[0m\u001b[0m\n\u001b[1;32m    385\u001b[0m             \u001b[0;31m# since correctness does not rely on using threads.\u001b[0m\u001b[0;34m\u001b[0m\u001b[0;34m\u001b[0m\u001b[0;34m\u001b[0m\u001b[0m\n\u001b[0;32m--> 386\u001b[0;31m             trees = Parallel(n_jobs=self.n_jobs, verbose=self.verbose,\n\u001b[0m\u001b[1;32m    387\u001b[0m                              \u001b[0;34m**\u001b[0m\u001b[0m_joblib_parallel_args\u001b[0m\u001b[0;34m(\u001b[0m\u001b[0mprefer\u001b[0m\u001b[0;34m=\u001b[0m\u001b[0;34m'threads'\u001b[0m\u001b[0;34m)\u001b[0m\u001b[0;34m)\u001b[0m\u001b[0;34m(\u001b[0m\u001b[0;34m\u001b[0m\u001b[0;34m\u001b[0m\u001b[0m\n\u001b[1;32m    388\u001b[0m                 delayed(_parallel_build_trees)(\n",
      "\u001b[0;32m/opt/anaconda3/lib/python3.8/site-packages/joblib/parallel.py\u001b[0m in \u001b[0;36m__call__\u001b[0;34m(self, iterable)\u001b[0m\n\u001b[1;32m   1027\u001b[0m             \u001b[0;31m# remaining jobs.\u001b[0m\u001b[0;34m\u001b[0m\u001b[0;34m\u001b[0m\u001b[0;34m\u001b[0m\u001b[0m\n\u001b[1;32m   1028\u001b[0m             \u001b[0mself\u001b[0m\u001b[0;34m.\u001b[0m\u001b[0m_iterating\u001b[0m \u001b[0;34m=\u001b[0m \u001b[0;32mFalse\u001b[0m\u001b[0;34m\u001b[0m\u001b[0;34m\u001b[0m\u001b[0m\n\u001b[0;32m-> 1029\u001b[0;31m             \u001b[0;32mif\u001b[0m \u001b[0mself\u001b[0m\u001b[0;34m.\u001b[0m\u001b[0mdispatch_one_batch\u001b[0m\u001b[0;34m(\u001b[0m\u001b[0miterator\u001b[0m\u001b[0;34m)\u001b[0m\u001b[0;34m:\u001b[0m\u001b[0;34m\u001b[0m\u001b[0;34m\u001b[0m\u001b[0m\n\u001b[0m\u001b[1;32m   1030\u001b[0m                 \u001b[0mself\u001b[0m\u001b[0;34m.\u001b[0m\u001b[0m_iterating\u001b[0m \u001b[0;34m=\u001b[0m \u001b[0mself\u001b[0m\u001b[0;34m.\u001b[0m\u001b[0m_original_iterator\u001b[0m \u001b[0;32mis\u001b[0m \u001b[0;32mnot\u001b[0m \u001b[0;32mNone\u001b[0m\u001b[0;34m\u001b[0m\u001b[0;34m\u001b[0m\u001b[0m\n\u001b[1;32m   1031\u001b[0m \u001b[0;34m\u001b[0m\u001b[0m\n",
      "\u001b[0;32m/opt/anaconda3/lib/python3.8/site-packages/joblib/parallel.py\u001b[0m in \u001b[0;36mdispatch_one_batch\u001b[0;34m(self, iterator)\u001b[0m\n\u001b[1;32m    845\u001b[0m                 \u001b[0;32mreturn\u001b[0m \u001b[0;32mFalse\u001b[0m\u001b[0;34m\u001b[0m\u001b[0;34m\u001b[0m\u001b[0m\n\u001b[1;32m    846\u001b[0m             \u001b[0;32melse\u001b[0m\u001b[0;34m:\u001b[0m\u001b[0;34m\u001b[0m\u001b[0;34m\u001b[0m\u001b[0m\n\u001b[0;32m--> 847\u001b[0;31m                 \u001b[0mself\u001b[0m\u001b[0;34m.\u001b[0m\u001b[0m_dispatch\u001b[0m\u001b[0;34m(\u001b[0m\u001b[0mtasks\u001b[0m\u001b[0;34m)\u001b[0m\u001b[0;34m\u001b[0m\u001b[0;34m\u001b[0m\u001b[0m\n\u001b[0m\u001b[1;32m    848\u001b[0m                 \u001b[0;32mreturn\u001b[0m \u001b[0;32mTrue\u001b[0m\u001b[0;34m\u001b[0m\u001b[0;34m\u001b[0m\u001b[0m\n\u001b[1;32m    849\u001b[0m \u001b[0;34m\u001b[0m\u001b[0m\n",
      "\u001b[0;32m/opt/anaconda3/lib/python3.8/site-packages/joblib/parallel.py\u001b[0m in \u001b[0;36m_dispatch\u001b[0;34m(self, batch)\u001b[0m\n\u001b[1;32m    763\u001b[0m         \u001b[0;32mwith\u001b[0m \u001b[0mself\u001b[0m\u001b[0;34m.\u001b[0m\u001b[0m_lock\u001b[0m\u001b[0;34m:\u001b[0m\u001b[0;34m\u001b[0m\u001b[0;34m\u001b[0m\u001b[0m\n\u001b[1;32m    764\u001b[0m             \u001b[0mjob_idx\u001b[0m \u001b[0;34m=\u001b[0m \u001b[0mlen\u001b[0m\u001b[0;34m(\u001b[0m\u001b[0mself\u001b[0m\u001b[0;34m.\u001b[0m\u001b[0m_jobs\u001b[0m\u001b[0;34m)\u001b[0m\u001b[0;34m\u001b[0m\u001b[0;34m\u001b[0m\u001b[0m\n\u001b[0;32m--> 765\u001b[0;31m             \u001b[0mjob\u001b[0m \u001b[0;34m=\u001b[0m \u001b[0mself\u001b[0m\u001b[0;34m.\u001b[0m\u001b[0m_backend\u001b[0m\u001b[0;34m.\u001b[0m\u001b[0mapply_async\u001b[0m\u001b[0;34m(\u001b[0m\u001b[0mbatch\u001b[0m\u001b[0;34m,\u001b[0m \u001b[0mcallback\u001b[0m\u001b[0;34m=\u001b[0m\u001b[0mcb\u001b[0m\u001b[0;34m)\u001b[0m\u001b[0;34m\u001b[0m\u001b[0;34m\u001b[0m\u001b[0m\n\u001b[0m\u001b[1;32m    766\u001b[0m             \u001b[0;31m# A job can complete so quickly than its callback is\u001b[0m\u001b[0;34m\u001b[0m\u001b[0;34m\u001b[0m\u001b[0;34m\u001b[0m\u001b[0m\n\u001b[1;32m    767\u001b[0m             \u001b[0;31m# called before we get here, causing self._jobs to\u001b[0m\u001b[0;34m\u001b[0m\u001b[0;34m\u001b[0m\u001b[0;34m\u001b[0m\u001b[0m\n",
      "\u001b[0;32m/opt/anaconda3/lib/python3.8/site-packages/joblib/_parallel_backends.py\u001b[0m in \u001b[0;36mapply_async\u001b[0;34m(self, func, callback)\u001b[0m\n\u001b[1;32m    206\u001b[0m     \u001b[0;32mdef\u001b[0m \u001b[0mapply_async\u001b[0m\u001b[0;34m(\u001b[0m\u001b[0mself\u001b[0m\u001b[0;34m,\u001b[0m \u001b[0mfunc\u001b[0m\u001b[0;34m,\u001b[0m \u001b[0mcallback\u001b[0m\u001b[0;34m=\u001b[0m\u001b[0;32mNone\u001b[0m\u001b[0;34m)\u001b[0m\u001b[0;34m:\u001b[0m\u001b[0;34m\u001b[0m\u001b[0;34m\u001b[0m\u001b[0m\n\u001b[1;32m    207\u001b[0m         \u001b[0;34m\"\"\"Schedule a func to be run\"\"\"\u001b[0m\u001b[0;34m\u001b[0m\u001b[0;34m\u001b[0m\u001b[0m\n\u001b[0;32m--> 208\u001b[0;31m         \u001b[0mresult\u001b[0m \u001b[0;34m=\u001b[0m \u001b[0mImmediateResult\u001b[0m\u001b[0;34m(\u001b[0m\u001b[0mfunc\u001b[0m\u001b[0;34m)\u001b[0m\u001b[0;34m\u001b[0m\u001b[0;34m\u001b[0m\u001b[0m\n\u001b[0m\u001b[1;32m    209\u001b[0m         \u001b[0;32mif\u001b[0m \u001b[0mcallback\u001b[0m\u001b[0;34m:\u001b[0m\u001b[0;34m\u001b[0m\u001b[0;34m\u001b[0m\u001b[0m\n\u001b[1;32m    210\u001b[0m             \u001b[0mcallback\u001b[0m\u001b[0;34m(\u001b[0m\u001b[0mresult\u001b[0m\u001b[0;34m)\u001b[0m\u001b[0;34m\u001b[0m\u001b[0;34m\u001b[0m\u001b[0m\n",
      "\u001b[0;32m/opt/anaconda3/lib/python3.8/site-packages/joblib/_parallel_backends.py\u001b[0m in \u001b[0;36m__init__\u001b[0;34m(self, batch)\u001b[0m\n\u001b[1;32m    570\u001b[0m         \u001b[0;31m# Don't delay the application, to avoid keeping the input\u001b[0m\u001b[0;34m\u001b[0m\u001b[0;34m\u001b[0m\u001b[0;34m\u001b[0m\u001b[0m\n\u001b[1;32m    571\u001b[0m         \u001b[0;31m# arguments in memory\u001b[0m\u001b[0;34m\u001b[0m\u001b[0;34m\u001b[0m\u001b[0;34m\u001b[0m\u001b[0m\n\u001b[0;32m--> 572\u001b[0;31m         \u001b[0mself\u001b[0m\u001b[0;34m.\u001b[0m\u001b[0mresults\u001b[0m \u001b[0;34m=\u001b[0m \u001b[0mbatch\u001b[0m\u001b[0;34m(\u001b[0m\u001b[0;34m)\u001b[0m\u001b[0;34m\u001b[0m\u001b[0;34m\u001b[0m\u001b[0m\n\u001b[0m\u001b[1;32m    573\u001b[0m \u001b[0;34m\u001b[0m\u001b[0m\n\u001b[1;32m    574\u001b[0m     \u001b[0;32mdef\u001b[0m \u001b[0mget\u001b[0m\u001b[0;34m(\u001b[0m\u001b[0mself\u001b[0m\u001b[0;34m)\u001b[0m\u001b[0;34m:\u001b[0m\u001b[0;34m\u001b[0m\u001b[0;34m\u001b[0m\u001b[0m\n",
      "\u001b[0;32m/opt/anaconda3/lib/python3.8/site-packages/joblib/parallel.py\u001b[0m in \u001b[0;36m__call__\u001b[0;34m(self)\u001b[0m\n\u001b[1;32m    250\u001b[0m         \u001b[0;31m# change the default number of processes to -1\u001b[0m\u001b[0;34m\u001b[0m\u001b[0;34m\u001b[0m\u001b[0;34m\u001b[0m\u001b[0m\n\u001b[1;32m    251\u001b[0m         \u001b[0;32mwith\u001b[0m \u001b[0mparallel_backend\u001b[0m\u001b[0;34m(\u001b[0m\u001b[0mself\u001b[0m\u001b[0;34m.\u001b[0m\u001b[0m_backend\u001b[0m\u001b[0;34m,\u001b[0m \u001b[0mn_jobs\u001b[0m\u001b[0;34m=\u001b[0m\u001b[0mself\u001b[0m\u001b[0;34m.\u001b[0m\u001b[0m_n_jobs\u001b[0m\u001b[0;34m)\u001b[0m\u001b[0;34m:\u001b[0m\u001b[0;34m\u001b[0m\u001b[0;34m\u001b[0m\u001b[0m\n\u001b[0;32m--> 252\u001b[0;31m             return [func(*args, **kwargs)\n\u001b[0m\u001b[1;32m    253\u001b[0m                     for func, args, kwargs in self.items]\n\u001b[1;32m    254\u001b[0m \u001b[0;34m\u001b[0m\u001b[0m\n",
      "\u001b[0;32m/opt/anaconda3/lib/python3.8/site-packages/joblib/parallel.py\u001b[0m in \u001b[0;36m<listcomp>\u001b[0;34m(.0)\u001b[0m\n\u001b[1;32m    250\u001b[0m         \u001b[0;31m# change the default number of processes to -1\u001b[0m\u001b[0;34m\u001b[0m\u001b[0;34m\u001b[0m\u001b[0;34m\u001b[0m\u001b[0m\n\u001b[1;32m    251\u001b[0m         \u001b[0;32mwith\u001b[0m \u001b[0mparallel_backend\u001b[0m\u001b[0;34m(\u001b[0m\u001b[0mself\u001b[0m\u001b[0;34m.\u001b[0m\u001b[0m_backend\u001b[0m\u001b[0;34m,\u001b[0m \u001b[0mn_jobs\u001b[0m\u001b[0;34m=\u001b[0m\u001b[0mself\u001b[0m\u001b[0;34m.\u001b[0m\u001b[0m_n_jobs\u001b[0m\u001b[0;34m)\u001b[0m\u001b[0;34m:\u001b[0m\u001b[0;34m\u001b[0m\u001b[0;34m\u001b[0m\u001b[0m\n\u001b[0;32m--> 252\u001b[0;31m             return [func(*args, **kwargs)\n\u001b[0m\u001b[1;32m    253\u001b[0m                     for func, args, kwargs in self.items]\n\u001b[1;32m    254\u001b[0m \u001b[0;34m\u001b[0m\u001b[0m\n",
      "\u001b[0;32m/opt/anaconda3/lib/python3.8/site-packages/sklearn/ensemble/_forest.py\u001b[0m in \u001b[0;36m_parallel_build_trees\u001b[0;34m(tree, forest, X, y, sample_weight, tree_idx, n_trees, verbose, class_weight, n_samples_bootstrap)\u001b[0m\n\u001b[1;32m    166\u001b[0m                                                         indices=indices)\n\u001b[1;32m    167\u001b[0m \u001b[0;34m\u001b[0m\u001b[0m\n\u001b[0;32m--> 168\u001b[0;31m         \u001b[0mtree\u001b[0m\u001b[0;34m.\u001b[0m\u001b[0mfit\u001b[0m\u001b[0;34m(\u001b[0m\u001b[0mX\u001b[0m\u001b[0;34m,\u001b[0m \u001b[0my\u001b[0m\u001b[0;34m,\u001b[0m \u001b[0msample_weight\u001b[0m\u001b[0;34m=\u001b[0m\u001b[0mcurr_sample_weight\u001b[0m\u001b[0;34m,\u001b[0m \u001b[0mcheck_input\u001b[0m\u001b[0;34m=\u001b[0m\u001b[0;32mFalse\u001b[0m\u001b[0;34m)\u001b[0m\u001b[0;34m\u001b[0m\u001b[0;34m\u001b[0m\u001b[0m\n\u001b[0m\u001b[1;32m    169\u001b[0m     \u001b[0;32melse\u001b[0m\u001b[0;34m:\u001b[0m\u001b[0;34m\u001b[0m\u001b[0;34m\u001b[0m\u001b[0m\n\u001b[1;32m    170\u001b[0m         \u001b[0mtree\u001b[0m\u001b[0;34m.\u001b[0m\u001b[0mfit\u001b[0m\u001b[0;34m(\u001b[0m\u001b[0mX\u001b[0m\u001b[0;34m,\u001b[0m \u001b[0my\u001b[0m\u001b[0;34m,\u001b[0m \u001b[0msample_weight\u001b[0m\u001b[0;34m=\u001b[0m\u001b[0msample_weight\u001b[0m\u001b[0;34m,\u001b[0m \u001b[0mcheck_input\u001b[0m\u001b[0;34m=\u001b[0m\u001b[0;32mFalse\u001b[0m\u001b[0;34m)\u001b[0m\u001b[0;34m\u001b[0m\u001b[0;34m\u001b[0m\u001b[0m\n",
      "\u001b[0;32m/opt/anaconda3/lib/python3.8/site-packages/sklearn/tree/_classes.py\u001b[0m in \u001b[0;36mfit\u001b[0;34m(self, X, y, sample_weight, check_input, X_idx_sorted)\u001b[0m\n\u001b[1;32m    888\u001b[0m         \"\"\"\n\u001b[1;32m    889\u001b[0m \u001b[0;34m\u001b[0m\u001b[0m\n\u001b[0;32m--> 890\u001b[0;31m         super().fit(\n\u001b[0m\u001b[1;32m    891\u001b[0m             \u001b[0mX\u001b[0m\u001b[0;34m,\u001b[0m \u001b[0my\u001b[0m\u001b[0;34m,\u001b[0m\u001b[0;34m\u001b[0m\u001b[0;34m\u001b[0m\u001b[0m\n\u001b[1;32m    892\u001b[0m             \u001b[0msample_weight\u001b[0m\u001b[0;34m=\u001b[0m\u001b[0msample_weight\u001b[0m\u001b[0;34m,\u001b[0m\u001b[0;34m\u001b[0m\u001b[0;34m\u001b[0m\u001b[0m\n",
      "\u001b[0;32m/opt/anaconda3/lib/python3.8/site-packages/sklearn/tree/_classes.py\u001b[0m in \u001b[0;36mfit\u001b[0;34m(self, X, y, sample_weight, check_input, X_idx_sorted)\u001b[0m\n\u001b[1;32m    190\u001b[0m             \u001b[0my_encoded\u001b[0m \u001b[0;34m=\u001b[0m \u001b[0mnp\u001b[0m\u001b[0;34m.\u001b[0m\u001b[0mzeros\u001b[0m\u001b[0;34m(\u001b[0m\u001b[0my\u001b[0m\u001b[0;34m.\u001b[0m\u001b[0mshape\u001b[0m\u001b[0;34m,\u001b[0m \u001b[0mdtype\u001b[0m\u001b[0;34m=\u001b[0m\u001b[0mnp\u001b[0m\u001b[0;34m.\u001b[0m\u001b[0mint\u001b[0m\u001b[0;34m)\u001b[0m\u001b[0;34m\u001b[0m\u001b[0;34m\u001b[0m\u001b[0m\n\u001b[1;32m    191\u001b[0m             \u001b[0;32mfor\u001b[0m \u001b[0mk\u001b[0m \u001b[0;32min\u001b[0m \u001b[0mrange\u001b[0m\u001b[0;34m(\u001b[0m\u001b[0mself\u001b[0m\u001b[0;34m.\u001b[0m\u001b[0mn_outputs_\u001b[0m\u001b[0;34m)\u001b[0m\u001b[0;34m:\u001b[0m\u001b[0;34m\u001b[0m\u001b[0;34m\u001b[0m\u001b[0m\n\u001b[0;32m--> 192\u001b[0;31m                 classes_k, y_encoded[:, k] = np.unique(y[:, k],\n\u001b[0m\u001b[1;32m    193\u001b[0m                                                        return_inverse=True)\n\u001b[1;32m    194\u001b[0m                 \u001b[0mself\u001b[0m\u001b[0;34m.\u001b[0m\u001b[0mclasses_\u001b[0m\u001b[0;34m.\u001b[0m\u001b[0mappend\u001b[0m\u001b[0;34m(\u001b[0m\u001b[0mclasses_k\u001b[0m\u001b[0;34m)\u001b[0m\u001b[0;34m\u001b[0m\u001b[0;34m\u001b[0m\u001b[0m\n",
      "\u001b[0;32m<__array_function__ internals>\u001b[0m in \u001b[0;36munique\u001b[0;34m(*args, **kwargs)\u001b[0m\n",
      "\u001b[0;32m/opt/anaconda3/lib/python3.8/site-packages/numpy/lib/arraysetops.py\u001b[0m in \u001b[0;36munique\u001b[0;34m(ar, return_index, return_inverse, return_counts, axis)\u001b[0m\n\u001b[1;32m    260\u001b[0m     \u001b[0mar\u001b[0m \u001b[0;34m=\u001b[0m \u001b[0mnp\u001b[0m\u001b[0;34m.\u001b[0m\u001b[0masanyarray\u001b[0m\u001b[0;34m(\u001b[0m\u001b[0mar\u001b[0m\u001b[0;34m)\u001b[0m\u001b[0;34m\u001b[0m\u001b[0;34m\u001b[0m\u001b[0m\n\u001b[1;32m    261\u001b[0m     \u001b[0;32mif\u001b[0m \u001b[0maxis\u001b[0m \u001b[0;32mis\u001b[0m \u001b[0;32mNone\u001b[0m\u001b[0;34m:\u001b[0m\u001b[0;34m\u001b[0m\u001b[0;34m\u001b[0m\u001b[0m\n\u001b[0;32m--> 262\u001b[0;31m         \u001b[0mret\u001b[0m \u001b[0;34m=\u001b[0m \u001b[0m_unique1d\u001b[0m\u001b[0;34m(\u001b[0m\u001b[0mar\u001b[0m\u001b[0;34m,\u001b[0m \u001b[0mreturn_index\u001b[0m\u001b[0;34m,\u001b[0m \u001b[0mreturn_inverse\u001b[0m\u001b[0;34m,\u001b[0m \u001b[0mreturn_counts\u001b[0m\u001b[0;34m)\u001b[0m\u001b[0;34m\u001b[0m\u001b[0;34m\u001b[0m\u001b[0m\n\u001b[0m\u001b[1;32m    263\u001b[0m         \u001b[0;32mreturn\u001b[0m \u001b[0m_unpack_tuple\u001b[0m\u001b[0;34m(\u001b[0m\u001b[0mret\u001b[0m\u001b[0;34m)\u001b[0m\u001b[0;34m\u001b[0m\u001b[0;34m\u001b[0m\u001b[0m\n\u001b[1;32m    264\u001b[0m \u001b[0;34m\u001b[0m\u001b[0m\n",
      "\u001b[0;32m/opt/anaconda3/lib/python3.8/site-packages/numpy/lib/arraysetops.py\u001b[0m in \u001b[0;36m_unique1d\u001b[0;34m(ar, return_index, return_inverse, return_counts)\u001b[0m\n\u001b[1;32m    318\u001b[0m \u001b[0;34m\u001b[0m\u001b[0m\n\u001b[1;32m    319\u001b[0m     \u001b[0;32mif\u001b[0m \u001b[0moptional_indices\u001b[0m\u001b[0;34m:\u001b[0m\u001b[0;34m\u001b[0m\u001b[0;34m\u001b[0m\u001b[0m\n\u001b[0;32m--> 320\u001b[0;31m         \u001b[0mperm\u001b[0m \u001b[0;34m=\u001b[0m \u001b[0mar\u001b[0m\u001b[0;34m.\u001b[0m\u001b[0margsort\u001b[0m\u001b[0;34m(\u001b[0m\u001b[0mkind\u001b[0m\u001b[0;34m=\u001b[0m\u001b[0;34m'mergesort'\u001b[0m \u001b[0;32mif\u001b[0m \u001b[0mreturn_index\u001b[0m \u001b[0;32melse\u001b[0m \u001b[0;34m'quicksort'\u001b[0m\u001b[0;34m)\u001b[0m\u001b[0;34m\u001b[0m\u001b[0;34m\u001b[0m\u001b[0m\n\u001b[0m\u001b[1;32m    321\u001b[0m         \u001b[0maux\u001b[0m \u001b[0;34m=\u001b[0m \u001b[0mar\u001b[0m\u001b[0;34m[\u001b[0m\u001b[0mperm\u001b[0m\u001b[0;34m]\u001b[0m\u001b[0;34m\u001b[0m\u001b[0;34m\u001b[0m\u001b[0m\n\u001b[1;32m    322\u001b[0m     \u001b[0;32melse\u001b[0m\u001b[0;34m:\u001b[0m\u001b[0;34m\u001b[0m\u001b[0;34m\u001b[0m\u001b[0m\n",
      "\u001b[0;31mKeyboardInterrupt\u001b[0m: "
     ]
    }
   ],
   "source": [
    "for i,trees in enumerate(tree_count):\n",
    "    rf = RandomForestClassifier(min_samples_leaf = int(len(train_X)/50),n_estimators = trees)\n",
    "    rf.fit(train_X,train_Y)\n",
    "    rf_error[i] = 1 - accuracy_score(test_Y,rf.predict(test_X))"
   ]
  },
  {
   "cell_type": "code",
   "execution_count": null,
   "id": "illegal-robin",
   "metadata": {},
   "outputs": [],
   "source": [
    "plt.figure(figsize = (20,10))\n",
    "plt.plot(tree_count,rf_error*100,label = 'Random Forest Error')\n",
    "plt.plot(tree_count,dt_error*100,label = 'CART Error')\n",
    "plt.legend(loc='upper right',prop={'size': 18})\n",
    "plt.xlabel(\"Tree Count\",fontsize=18)\n",
    "plt.ylabel(\"Error (%)\",fontsize=18)\n",
    "plt.xticks(fontsize=18)\n",
    "plt.yticks(fontsize=18)\n",
    "plt.xlim(5,500)"
   ]
  },
  {
   "cell_type": "code",
   "execution_count": null,
   "id": "athletic-russian",
   "metadata": {},
   "outputs": [],
   "source": [
    "svm_clf = OneClassSVM(nu=.02,gamma='auto',shrinking=False)\n",
    "\n",
    "#find all points that are non-spam, where the splam_class = 0 to train our one class svm\n",
    "pass_x = train_X[np.where(train_Y == 0)]\n",
    "svm_clf.fit(pass_x)\n",
    "\n",
    "#We will need to relabel our test data to match that of our one-class SVM\n",
    "one_class_y = test_Y.copy()\n",
    "one_class_y[np.where(test_Y == 0)] = -1\n",
    "one_class_y = one_class_y*(-1)\n",
    "svm_prediction = svm_clf.predict(test_X)\n",
    "error_rate = round((1 - accuracy_score(np.array(one_class_y),svm_prediction))*100,1)\n",
    "print(\"The misclassification (or error) rate for the One Class SVM classifier is %s percent\" % error_rate)"
   ]
  },
  {
   "cell_type": "code",
   "execution_count": null,
   "id": "dominant-illness",
   "metadata": {},
   "outputs": [],
   "source": []
  },
  {
   "cell_type": "code",
   "execution_count": null,
   "id": "sorted-shadow",
   "metadata": {},
   "outputs": [],
   "source": [
    "#train and predict with the K-Nearest Neighbors classifier\n",
    "\n",
    "nbrs = KNeighborsClassifier(n_neighbors=5, algorithm='ball_tree').fit(train_X,train_Y)\n",
    "knn_predictions = nbrs.predict(test_X)\n",
    "\n",
    "#train and predict with the Neural Network Classifier\n",
    "\n",
    "nnclf = MLPClassifier(solver='lbfgs', alpha=1e-5, hidden_layer_sizes=(20,10), random_state = 1,max_iter = 2000)\n",
    "nnclf.fit(train_X,train_Y)\n",
    "nn_predictions = nnclf.predict(test_X)\n",
    "\n",
    "#train and predict with the Logistic Regression Classifier\n",
    "\n",
    "logit = LogisticRegression(multi_class = 'ovr',solver = 'sag',max_iter = 1000)\n",
    "logit.fit(train_X,train_Y)\n",
    "logit_predictions = logit.predict(test_X)\n",
    "\n",
    "#train and predict with the Support Vector Machine Classifier\n",
    "\n",
    "svm_clf = svm.SVC(decision_function_shape='ovo')\n",
    "svm_clf.fit(train_X,train_Y)\n",
    "svm_predictions = svm_clf.predict(test_X)\n",
    "\n",
    "#train and predict with the Kernel Support Vector Machine Classifier\n",
    "\n",
    "m = train_X[np.random.choice(range(len(train_X)),1000,replace=False)]\n",
    "norm_2 = np.array([])\n",
    "for i in range(len(m)):\n",
    "    for j in range(i,len(m)):\n",
    "          norm_2 = np.append(norm_2,np.linalg.norm(train_X[i]-train_X[j]))\n",
    "            \n",
    "M = np.median(np.square(norm_2))\n",
    "sigma = (M/2)**.5\n",
    "\n",
    "rbf_clf = svm.SVC(kernel='rbf', decision_function_shape='ovo',gamma=1/(2*sigma**2))\n",
    "rbf_clf.fit(train_X,train_Y)\n",
    "rbf_predictions = rbf_clf.predict(test_X)\n",
    "\n"
   ]
  },
  {
   "cell_type": "code",
   "execution_count": null,
   "id": "surrounded-tolerance",
   "metadata": {},
   "outputs": [],
   "source": [
    "for i in [0,1]:\n",
    "    print(\"Precision for label %s:\" % i ,precision_score(test_Y[np.where(test_Y == i)[0]],knn_predictions[np.where(test_Y == i)[0]],average='micro'))\n",
    "    print(\"F1 Score for label %s:\" % i,f1_score(test_Y[np.where(test_Y == i)[0]],knn_predictions[np.where(test_Y == i)[0]], average='micro'))\n",
    "    print(\"Recall Score for label %s:\" % i,recall_score(test_Y[np.where(test_Y == i)[0]],knn_predictions[np.where(test_Y == i)[0]],average='micro'),\"\\n\")\n",
    "\n",
    "print(\"Confusion Matrix:\\n\",confusion_matrix(test_Y,knn_predictions),\"\\n\")\n",
    "\n",
    "print(\"Precision:\",precision_score(test_Y[np.where(test_Y == 2)[0]],knn_predictions[np.where(test_Y == 2)[0]],average='weighted'))\n",
    "\n",
    "#### Metrics for Neural Network Classifier\n",
    "\n",
    "for i in [0,1]:\n",
    "    print(\"Precision for label %s:\" % i ,precision_score(test_Y[np.where(test_Y == i)[0]],nn_predictions[np.where(test_Y == i)[0]],average='micro'))\n",
    "    print(\"F1 Score for label %s:\" % i,f1_score(test_Y[np.where(test_Y == i)[0]],nn_predictions[np.where(test_Y == i)[0]], average='micro'))\n",
    "    print(\"Recall Score for label %s:\" % i,recall_score(test_Y[np.where(test_Y == i)[0]],nn_predictions[np.where(test_Y == i)[0]],average='micro'),\"\\n\")\n",
    "print(\"Confusion Matrix:\\n\", confusion_matrix(test_Y,nn_predictions),\"\\n\")\n",
    "\n",
    "#### Metrics for Logistic Regression Classifier\n",
    "\n",
    "for i in [0,1]:\n",
    "    print(\"Precision for label %s:\" % i ,precision_score(test_Y[np.where(test_Y == i)[0]],logit_predictions[np.where(test_Y == i)[0]],average='micro'))\n",
    "    print(\"F1 Score for label %s:\" % i,f1_score(test_Y[np.where(test_Y == i)[0]],logit_predictions[np.where(test_Y == i)[0]], average='micro'))\n",
    "    print(\"Recall Score for label %s:\" % i,recall_score(test_Y[np.where(test_Y == i)[0]],logit_predictions[np.where(test_Y == i)[0]],average='micro'),\"\\n\")\n",
    "print(\"Confusion Matrix:\\n\", confusion_matrix(test_Y,logit_predictions),\"\\n\")\n",
    "\n",
    "#### Metrics for Support Vector Machine Classifier\n",
    "\n",
    "for i in [0,1]:\n",
    "    print(\"Precision for label %s:\" % i ,precision_score(test_Y[np.where(test_Y == i)[0]],svm_predictions[np.where(test_Y == i)[0]],average='micro'))\n",
    "    print(\"F1 Score for label %s:\" % i,f1_score(test_Y[np.where(test_Y == i)[0]],svm_predictions[np.where(test_Y == i)[0]], average='micro'))\n",
    "    print(\"Recall Score for label %s:\" % i,recall_score(test_Y[np.where(test_Y == i)[0]],svm_predictions[np.where(test_Y == i)[0]],average='micro'),\"\\n\")\n",
    "print(\"Confusion Matrix:\\n\", confusion_matrix(test_Y,svm_predictions),\"\\n\")\n",
    "\n",
    "#### Metrics for Kernel Support Vector Machine Classifier\n",
    "\n",
    "for i in [0,1]:\n",
    "    print(\"Precision for label %s:\" % i ,precision_score(test_Y[np.where(test_Y == i)[0]],rbf_predictions[np.where(test_Y == i)[0]],average='micro'))\n",
    "    print(\"F1 Score for label %s:\" % i,f1_score(test_Y[np.where(test_Y == i)[0]],rbf_predictions[np.where(test_Y == i)[0]], average='micro'))\n",
    "    print(\"Recall Score for label %s:\" % i,recall_score(test_Y[np.where(test_Y == i)[0]],rbf_predictions[np.where(test_Y == i)[0]],average='micro'),\"\\n\")\n",
    "print(\"Confusion Matrix:\\n\", confusion_matrix(test_Y,rbf_predictions),\"\\n\")"
   ]
  },
  {
   "cell_type": "code",
   "execution_count": 1,
   "id": "acknowledged-moral",
   "metadata": {},
   "outputs": [
    {
     "ename": "NameError",
     "evalue": "name 'dt' is not defined",
     "output_type": "error",
     "traceback": [
      "\u001b[0;31m---------------------------------------------------------------------------\u001b[0m",
      "\u001b[0;31mNameError\u001b[0m                                 Traceback (most recent call last)",
      "\u001b[0;32m<ipython-input-1-a2f1f6b08e52>\u001b[0m in \u001b[0;36m<module>\u001b[0;34m\u001b[0m\n\u001b[1;32m      1\u001b[0m \u001b[0;31m#Saving to pickle files as per: https://scikit-learn.org/stable/modules/model_persistence.html\u001b[0m\u001b[0;34m\u001b[0m\u001b[0;34m\u001b[0m\u001b[0;34m\u001b[0m\u001b[0m\n\u001b[1;32m      2\u001b[0m \u001b[0;32mfrom\u001b[0m \u001b[0mjoblib\u001b[0m \u001b[0;32mimport\u001b[0m \u001b[0mdump\u001b[0m\u001b[0;34m\u001b[0m\u001b[0;34m\u001b[0m\u001b[0m\n\u001b[0;32m----> 3\u001b[0;31m \u001b[0mdump\u001b[0m\u001b[0;34m(\u001b[0m\u001b[0mdt\u001b[0m\u001b[0;34m,\u001b[0m \u001b[0;34m'clf.joblib'\u001b[0m\u001b[0;34m)\u001b[0m\u001b[0;34m\u001b[0m\u001b[0;34m\u001b[0m\u001b[0m\n\u001b[0m\u001b[1;32m      4\u001b[0m \u001b[0mdump\u001b[0m\u001b[0;34m(\u001b[0m\u001b[0mnbrs\u001b[0m\u001b[0;34m,\u001b[0m \u001b[0;34m'knn.joblib'\u001b[0m\u001b[0;34m)\u001b[0m\u001b[0;34m\u001b[0m\u001b[0;34m\u001b[0m\u001b[0m\n\u001b[1;32m      5\u001b[0m \u001b[0mdump\u001b[0m\u001b[0;34m(\u001b[0m\u001b[0mnnclf\u001b[0m\u001b[0;34m,\u001b[0m \u001b[0;34m'nn.joblib'\u001b[0m\u001b[0;34m)\u001b[0m\u001b[0;34m\u001b[0m\u001b[0;34m\u001b[0m\u001b[0m\n",
      "\u001b[0;31mNameError\u001b[0m: name 'dt' is not defined"
     ]
    }
   ],
   "source": [
    "#Saving to pickle files as per: https://scikit-learn.org/stable/modules/model_persistence.html\n",
    "dump(dt, 'clf.joblib') \n",
    "dump(nbrs, 'knn.joblib')\n",
    "dump(nnclf, 'nn.joblib')\n",
    "dump(logit, 'logit.joblib')\n",
    "dump(svm_clf, 'svm.joblib')\n",
    "dump(rbf_clf, 'rbf.joblib')"
   ]
  },
  {
   "cell_type": "code",
   "execution_count": 23,
   "id": "isolated-relief",
   "metadata": {},
   "outputs": [],
   "source": [
    "loaded_model = joblib.load('./joblibs/clf.joblib')"
   ]
  },
  {
   "cell_type": "code",
   "execution_count": 28,
   "id": "north-groove",
   "metadata": {},
   "outputs": [
    {
     "data": {
      "text/plain": [
       "array([[0.24312413, 0.75687587],\n",
       "       [0.18361472, 0.81638528],\n",
       "       [1.        , 0.        ],\n",
       "       ...,\n",
       "       [1.        , 0.        ],\n",
       "       [0.72752181, 0.27247819],\n",
       "       [1.        , 0.        ]])"
      ]
     },
     "execution_count": 28,
     "metadata": {},
     "output_type": "execute_result"
    }
   ],
   "source": [
    "loaded_model.predict_proba(test_X)"
   ]
  },
  {
   "cell_type": "code",
   "execution_count": 38,
   "id": "racial-transition",
   "metadata": {},
   "outputs": [
    {
     "name": "stderr",
     "output_type": "stream",
     "text": [
      "/opt/anaconda3/lib/python3.8/site-packages/sklearn/utils/validation.py:73: DataConversionWarning: A column-vector y was passed when a 1d array was expected. Please change the shape of y to (n_samples, ), for example using ravel().\n",
      "  return f(**kwargs)\n"
     ]
    },
    {
     "data": {
      "text/plain": [
       "GridSearchCV(estimator=SVC(decision_function_shape='ovo'), n_jobs=-1,\n",
       "             param_grid={'C': array([1.00000000e-06, 4.64158883e-05, 2.15443469e-03, 1.00000000e-01])})"
      ]
     },
     "execution_count": 38,
     "metadata": {},
     "output_type": "execute_result"
    }
   ],
   "source": [
    "from sklearn.model_selection import GridSearchCV, cross_val_score\n",
    "Cs = np.logspace(-6, -1, 4)\n",
    "svc = svm.SVC(decision_function_shape='ovo')\n",
    "svm_clf = GridSearchCV(estimator=svc, param_grid=dict(C=Cs),n_jobs=-1)\n",
    "svm_clf.fit(train_X,train_Y)"
   ]
  },
  {
   "cell_type": "code",
   "execution_count": 25,
   "id": "mighty-cruise",
   "metadata": {},
   "outputs": [
    {
     "data": {
      "text/plain": [
       "GridSearchCV(estimator=DecisionTreeClassifier(min_samples_leaf=11950),\n",
       "             n_jobs=-1,\n",
       "             param_grid={'max_depth': array([ 6,  8, 10, 12, 14, 16, 18, 20, 22, 24, 26, 28, 30, 32, 34, 36, 38])})"
      ]
     },
     "execution_count": 25,
     "metadata": {},
     "output_type": "execute_result"
    }
   ],
   "source": [
    "DT = DecisionTreeClassifier(min_samples_leaf = int(len(train_X)/20))\n",
    "depths = np.arange(3,20)*2\n",
    "dt_clf = GridSearchCV(estimator=DT, param_grid=dict(max_depth=depths),n_jobs=-1)\n",
    "dt_clf.fit(train_X,train_Y)"
   ]
  },
  {
   "cell_type": "code",
   "execution_count": 24,
   "id": "baking-passing",
   "metadata": {},
   "outputs": [
    {
     "name": "stderr",
     "output_type": "stream",
     "text": [
      "/opt/anaconda3/lib/python3.8/site-packages/sklearn/model_selection/_search.py:765: DataConversionWarning: A column-vector y was passed when a 1d array was expected. Please change the shape of y to (n_samples,), for example using ravel().\n",
      "  self.best_estimator_.fit(X, y, **fit_params)\n"
     ]
    },
    {
     "data": {
      "text/plain": [
       "GridSearchCV(estimator=RandomForestClassifier(min_samples_leaf=11950),\n",
       "             n_jobs=-1,\n",
       "             param_grid={'n_estimators': array([10, 20, 30, 40, 50, 60, 70, 80, 90])})"
      ]
     },
     "execution_count": 24,
     "metadata": {},
     "output_type": "execute_result"
    }
   ],
   "source": [
    "rf = RandomForestClassifier(min_samples_leaf = int(len(train_X)/20))\n",
    "trees = np.arange(1,10)*10\n",
    "rf_clf = GridSearchCV(estimator=rf, param_grid=dict(n_estimators=trees),n_jobs=-1)\n",
    "rf_clf.fit(train_X,train_Y)"
   ]
  },
  {
   "cell_type": "code",
   "execution_count": 37,
   "id": "comfortable-husband",
   "metadata": {},
   "outputs": [
    {
     "name": "stderr",
     "output_type": "stream",
     "text": [
      "/opt/anaconda3/lib/python3.8/site-packages/sklearn/utils/validation.py:73: DataConversionWarning: A column-vector y was passed when a 1d array was expected. Please change the shape of y to (n_samples, ), for example using ravel().\n",
      "  return f(**kwargs)\n",
      "/opt/anaconda3/lib/python3.8/site-packages/sklearn/neural_network/_multilayer_perceptron.py:471: ConvergenceWarning: lbfgs failed to converge (status=1):\n",
      "STOP: TOTAL NO. of ITERATIONS REACHED LIMIT.\n",
      "\n",
      "Increase the number of iterations (max_iter) or scale the data as shown in:\n",
      "    https://scikit-learn.org/stable/modules/preprocessing.html\n",
      "  self.n_iter_ = _check_optimize_result(\"lbfgs\", opt_res, self.max_iter)\n"
     ]
    },
    {
     "data": {
      "text/plain": [
       "GridSearchCV(estimator=MLPClassifier(alpha=1e-05, max_iter=1000, random_state=1,\n",
       "                                     solver='lbfgs'),\n",
       "             n_jobs=-1,\n",
       "             param_grid={'hidden_layer_sizes': [(10, 10), (20, 10)]})"
      ]
     },
     "execution_count": 37,
     "metadata": {},
     "output_type": "execute_result"
    }
   ],
   "source": [
    "nn = MLPClassifier(solver='lbfgs', alpha=1e-5, random_state = 1,max_iter = 1000)\n",
    "layer_sizes = []\n",
    "for i in np.arange(1,3):\n",
    "    for j in np.arange(1,2):\n",
    "        layer_sizes.append((i*10,j*10))\n",
    "nn_clf = GridSearchCV(estimator=nn, param_grid=dict(hidden_layer_sizes=layer_sizes),n_jobs=-1)\n",
    "nn_clf.fit(train_X,train_Y)"
   ]
  },
  {
   "cell_type": "code",
   "execution_count": 33,
   "id": "buried-simon",
   "metadata": {},
   "outputs": [
    {
     "name": "stderr",
     "output_type": "stream",
     "text": [
      "/opt/anaconda3/lib/python3.8/site-packages/sklearn/linear_model/_logistic.py:1320: UserWarning: Setting penalty='none' will ignore the C and l1_ratio parameters\n",
      "  warnings.warn(\n",
      "/opt/anaconda3/lib/python3.8/site-packages/sklearn/utils/validation.py:73: DataConversionWarning: A column-vector y was passed when a 1d array was expected. Please change the shape of y to (n_samples, ), for example using ravel().\n",
      "  return f(**kwargs)\n",
      "/opt/anaconda3/lib/python3.8/site-packages/sklearn/linear_model/_logistic.py:762: ConvergenceWarning: lbfgs failed to converge (status=1):\n",
      "STOP: TOTAL NO. of ITERATIONS REACHED LIMIT.\n",
      "\n",
      "Increase the number of iterations (max_iter) or scale the data as shown in:\n",
      "    https://scikit-learn.org/stable/modules/preprocessing.html\n",
      "Please also refer to the documentation for alternative solver options:\n",
      "    https://scikit-learn.org/stable/modules/linear_model.html#logistic-regression\n",
      "  n_iter_i = _check_optimize_result(\n"
     ]
    },
    {
     "data": {
      "text/plain": [
       "GridSearchCV(estimator=LogisticRegression(), n_jobs=-1,\n",
       "             param_grid={'C': array([1.00000000e-06, 4.64158883e-05, 2.15443469e-03, 1.00000000e-01]),\n",
       "                         'penalty': ['l1', 'l2', 'elasticnet', 'none']})"
      ]
     },
     "execution_count": 33,
     "metadata": {},
     "output_type": "execute_result"
    }
   ],
   "source": [
    "logit = LogisticRegression(max_iter = 100)\n",
    "grid  = {'penalty' : ['l1', 'l2', 'elasticnet', 'none'],'C' : np.logspace(-6, -1, 4)}\n",
    "logit_clf = GridSearchCV(estimator=logit, param_grid=grid,n_jobs=-1)\n",
    "logit_clf.fit(train_X,train_Y)"
   ]
  },
  {
   "cell_type": "code",
   "execution_count": null,
   "id": "crude-tsunami",
   "metadata": {},
   "outputs": [],
   "source": [
    "dump(logit_clf, 'logit_clf.joblib') \n",
    "dump(nn_clf, 'nn_clf.joblib') \n",
    "dump(svm_cfl, 'svm_clf.joblib') "
   ]
  },
  {
   "cell_type": "code",
   "execution_count": 6,
   "id": "parallel-acrobat",
   "metadata": {},
   "outputs": [
    {
     "name": "stderr",
     "output_type": "stream",
     "text": [
      "/opt/anaconda3/envs/ai_env/lib/python3.7/site-packages/sklearn/base.py:318: UserWarning: Trying to unpickle estimator SVC from version 0.23.1 when using version 0.22.1. This might lead to breaking code or invalid results. Use at your own risk.\n",
      "  UserWarning)\n"
     ]
    }
   ],
   "source": [
    "svc = joblib.load('./joblibs/svm.joblib')"
   ]
  },
  {
   "cell_type": "code",
   "execution_count": 13,
   "id": "effective-horror",
   "metadata": {},
   "outputs": [],
   "source": [
    "from scipy.stats import tstd, iqr\n",
    "from math import sqrt"
   ]
  },
  {
   "cell_type": "code",
   "execution_count": 78,
   "id": "finished-closer",
   "metadata": {},
   "outputs": [],
   "source": [
    "probs = dt.predict_proba(test_X)\n",
    "y_predict = dt.predict(test_X)"
   ]
  },
  {
   "cell_type": "code",
   "execution_count": 95,
   "id": "buried-maximum",
   "metadata": {},
   "outputs": [
    {
     "data": {
      "text/plain": [
       "0.001296482724432571"
      ]
     },
     "execution_count": 95,
     "metadata": {},
     "output_type": "execute_result"
    }
   ],
   "source": [
    "1.96*sem(probs[np.where(y_predict == 'pass')[0]][:,0])\n",
    "\n",
    "#Basically, the confidence interval boils down to: predicted_prob +- std. error*1.96\n",
    "#where std. error can be calculated as the error (1 - accuracy) divided by the sample size being the test set size\n"
   ]
  },
  {
   "cell_type": "code",
   "execution_count": 98,
   "id": "plain-opposition",
   "metadata": {},
   "outputs": [
    {
     "data": {
      "text/plain": [
       "0.1425511730685309"
      ]
     },
     "execution_count": 98,
     "metadata": {},
     "output_type": "execute_result"
    }
   ],
   "source": [
    "tstd(probs[np.where(y_predict == 'pass')[0]][:,0])"
   ]
  },
  {
   "cell_type": "code",
   "execution_count": 129,
   "id": "rubber-transcript",
   "metadata": {},
   "outputs": [
    {
     "data": {
      "text/plain": [
       "['./joblibs/svm.joblib']"
      ]
     },
     "execution_count": 129,
     "metadata": {},
     "output_type": "execute_result"
    }
   ],
   "source": [
    "svc = svm.SVC(decision_function_shape='ovo',C=10**-6,probability=True).fit(train_X,train_Y)\n",
    "dump(svc,'./joblibs/svm.joblib')"
   ]
  },
  {
   "cell_type": "code",
   "execution_count": 17,
   "id": "photographic-attempt",
   "metadata": {},
   "outputs": [],
   "source": [
    "joblibs = ['dt','rf','knn','nn','logit']"
   ]
  },
  {
   "cell_type": "code",
   "execution_count": 18,
   "id": "gross-architect",
   "metadata": {},
   "outputs": [
    {
     "data": {
      "text/plain": [
       "['./joblibs/confidence_intervals.joblib']"
      ]
     },
     "execution_count": 18,
     "metadata": {},
     "output_type": "execute_result"
    }
   ],
   "source": [
    "model_dict = {}\n",
    "confidence_intervals = {}\n",
    "for model in joblibs:\n",
    "    ci = {}\n",
    "    model_dict[model] = joblib.load('./joblibs/%s.joblib' % model)\n",
    "    probs = model_dict[model].predict_proba(test_X)\n",
    "    y_predict = model_dict[model].predict(test_X)\n",
    "    if 'pass' in y_predict:\n",
    "        y_predict = (y_predict == 'run')*1\n",
    "    for i,play in enumerate(['pass','run']):\n",
    "        lower_ci = np.percentile(probs[np.where(y_predict == i)[0]][:,i],5)\n",
    "        upper_ci = np.percentile(probs[np.where(y_predict == i)[0]][:,i],95)\n",
    "        ci[play] = [lower_ci,upper_ci]\n",
    "    confidence_intervals[model+'_model'] = ci\n",
    "dump(confidence_intervals,'./joblibs/confidence_intervals.joblib')"
   ]
  },
  {
   "cell_type": "code",
   "execution_count": 38,
   "id": "thermal-ocean",
   "metadata": {},
   "outputs": [
    {
     "name": "stdout",
     "output_type": "stream",
     "text": [
      "{'clf': {'pass': [0.7275218112336866, 1.0], 'run': [0.7054907182580089, 0.8418700080603796]}, 'knn': {'pass': [0.6, 1.0], 'run': [0.6, 1.0]}, 'nn': {'pass': [0.5072387250094302, 0.6262130700109815], 'run': [0.5016525094604135, 0.5931733936088252]}, 'logit': {'pass': [0.5238487273230286, 0.9670271494757545], 'run': [0.5256377653622223, 0.7669089924313653]}}\n"
     ]
    },
    {
     "data": {
      "text/plain": [
       "array([0])"
      ]
     },
     "execution_count": 38,
     "metadata": {},
     "output_type": "execute_result"
    }
   ],
   "source": [
    "print(confidence_intervals)\n",
    "np.unique(y_predict)"
   ]
  },
  {
   "cell_type": "code",
   "execution_count": 17,
   "id": "visible-thinking",
   "metadata": {},
   "outputs": [],
   "source": [
    "svc = joblib.load('./joblibs/svm.joblib')\n",
    "y_pred = svc.predict(test_X)"
   ]
  },
  {
   "cell_type": "code",
   "execution_count": 18,
   "id": "serial-allen",
   "metadata": {},
   "outputs": [
    {
     "data": {
      "text/plain": [
       "0"
      ]
     },
     "execution_count": 18,
     "metadata": {},
     "output_type": "execute_result"
    }
   ],
   "source": [
    "(y_pred=='run').sum()"
   ]
  },
  {
   "cell_type": "code",
   "execution_count": 15,
   "id": "infinite-eight",
   "metadata": {},
   "outputs": [
    {
     "data": {
      "text/plain": [
       "RandomForestClassifier(bootstrap=True, ccp_alpha=0.0, class_weight=None,\n",
       "                       criterion='gini', max_depth=None, max_features='auto',\n",
       "                       max_leaf_nodes=None, max_samples=None,\n",
       "                       min_impurity_decrease=0.0, min_impurity_split=None,\n",
       "                       min_samples_leaf=1195, min_samples_split=2,\n",
       "                       min_weight_fraction_leaf=0.0, n_estimators=100,\n",
       "                       n_jobs=-1, oob_score=False, random_state=20, verbose=0,\n",
       "                       warm_start=False)"
      ]
     },
     "execution_count": 15,
     "metadata": {},
     "output_type": "execute_result"
    }
   ],
   "source": [
    "rf = RandomForestClassifier(min_samples_leaf = int(len(train_X)/200),n_estimators = 100,criterion='gini',n_jobs=-1,random_state=20)\n",
    "rf.fit(train_X,train_Y)"
   ]
  },
  {
   "cell_type": "code",
   "execution_count": 16,
   "id": "streaming-graham",
   "metadata": {},
   "outputs": [
    {
     "data": {
      "text/plain": [
       "['./joblibs/rf.joblib']"
      ]
     },
     "execution_count": 16,
     "metadata": {},
     "output_type": "execute_result"
    }
   ],
   "source": [
    "accuracy_score(test_Y,rf.predict(test_X))\n",
    "dump(rf,'./joblibs/rf.joblib')"
   ]
  },
  {
   "cell_type": "code",
   "execution_count": 91,
   "id": "novel-middle",
   "metadata": {},
   "outputs": [
    {
     "data": {
      "text/plain": [
       "array([0.64707597, 0.45863229, 0.89765966, ..., 0.77137245, 0.6861262 ,\n",
       "       0.92576607])"
      ]
     },
     "execution_count": 91,
     "metadata": {},
     "output_type": "execute_result"
    }
   ],
   "source": [
    "from sklearn.metrics import roc_curve, auc"
   ]
  },
  {
   "cell_type": "code",
   "execution_count": 109,
   "id": "naughty-activity",
   "metadata": {},
   "outputs": [
    {
     "data": {
      "image/png": "[encoded data removed]",
      "text/plain": [
       "<Figure size 900x600 with 1 Axes>"
      ]
     },
     "metadata": {
      "needs_background": "light"
     },
     "output_type": "display_data"
    }
   ],
   "source": [
    "fpr, tpr, thresholds = roc_curve(np.array(test_Y==\"run\")*1, rf.predict_proba(test_X)[:,0], pos_label=0)\n",
    "\n",
    "roc_auc = auc(fpr, tpr)\n",
    "\n",
    "plt.figure(dpi=150)\n",
    "plt.plot(fpr, tpr, lw=1, color='green', label=f'AUC = {roc_auc:.3f}')\n",
    "plt.title('ROC Curve for RF classifier')\n",
    "plt.xlabel('False Positive Rate')\n",
    "plt.ylabel('True Positive Rate (Recall)')\n",
    "plt.xlim([-0.05, 1.05])\n",
    "plt.ylim([-0.05, 1.05])\n",
    "plt.legend()\n",
    "plt.show()"
   ]
  },
  {
   "cell_type": "code",
   "execution_count": 14,
   "id": "imposed-glucose",
   "metadata": {},
   "outputs": [],
   "source": [
    "svc = joblib.load('./joblibs/svm.joblib')"
   ]
  },
  {
   "cell_type": "code",
   "execution_count": 38,
   "id": "magnetic-wright",
   "metadata": {},
   "outputs": [
    {
     "data": {
      "text/plain": [
       "{'dt': {'pass': [0.5294556301267711, 0.9306841948013146],\n",
       "  'run': [0.5194591029023746, 0.7961684116729784]},\n",
       " 'rf': {'pass': [0.5123486615523402, 0.8540561028421264],\n",
       "  'run': [0.5083202591874415, 0.6885729117079723]},\n",
       " 'knn': {'pass': [0.6, 1.0], 'run': [0.6, 1.0]},\n",
       " 'nn': {'pass': [0.5072387250094302, 0.6262130700109815],\n",
       "  'run': [0.5016525094604135, 0.5931733936088252]},\n",
       " 'logit': {'pass': [0.5238487273230286, 0.9670271494757545],\n",
       "  'run': [0.5256377653622223, 0.7669089924313653]}}"
      ]
     },
     "execution_count": 38,
     "metadata": {},
     "output_type": "execute_result"
    }
   ],
   "source": [
    "confidence_intervals"
   ]
  },
  {
   "cell_type": "code",
   "execution_count": 26,
   "id": "optical-rogers",
   "metadata": {},
   "outputs": [],
   "source": [
    "confidence_interval = joblib.load('./joblibs/confince_intervals.joblib')"
   ]
  },
  {
   "cell_type": "code",
   "execution_count": null,
   "id": "circular-fleet",
   "metadata": {},
   "outputs": [],
   "source": []
  },
  {
   "cell_type": "code",
   "execution_count": null,
   "id": "taken-amendment",
   "metadata": {},
   "outputs": [],
   "source": []
  }
 ],
 "metadata": {
  "kernelspec": {
   "display_name": "Python 3",
   "language": "python",
   "name": "python3"
  },
  "language_info": {
   "codemirror_mode": {
    "name": "ipython",
    "version": 3
   },
   "file_extension": ".py",
   "mimetype": "text/x-python",
   "name": "python",
   "nbconvert_exporter": "python",
   "pygments_lexer": "ipython3",
   "version": "3.7.9"
  }
 },
 "nbformat": 4,
 "nbformat_minor": 5
}
